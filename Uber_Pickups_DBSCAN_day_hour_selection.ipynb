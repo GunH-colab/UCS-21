{
  "nbformat": 4,
  "nbformat_minor": 0,
  "metadata": {
    "kernelspec": {
      "display_name": "Python 3",
      "language": "python",
      "name": "python3"
    },
    "language_info": {
      "codemirror_mode": {
        "name": "ipython",
        "version": 3
      },
      "file_extension": ".py",
      "mimetype": "text/x-python",
      "name": "python",
      "nbconvert_exporter": "python",
      "pygments_lexer": "ipython3",
      "version": "3.8.6"
    },
    "colab": {
      "name": "Uber : Pickups-DBSCAN-day_hour_selection.ipynb",
      "provenance": []
    }
  },
  "cells": [
    {
      "cell_type": "markdown",
      "metadata": {
        "id": "5Qi4vFb_JZAl"
      },
      "source": [
        "# UBER Pickups \n",
        "### DAY-HOUR ANALYSIS"
      ]
    },
    {
      "cell_type": "code",
      "metadata": {
        "collapsed": true,
        "jupyter": {
          "outputs_hidden": true
        },
        "colab": {
          "base_uri": "https://localhost:8080/"
        },
        "id": "_U05IzlfJZAx",
        "outputId": "0cd4c2ca-4323-4551-a4ca-a51572cc0242"
      },
      "source": [
        "!pip install plotly==4.9.0\n",
        "!pip install jupyterlab \"ipywidgets>=7.5\"\n",
        "!jupyter labextension install jupyterlab-plotly@4.9.0\n",
        "!jupyter labextension install @jupyter-widgets/jupyterlab-manager plotlywidget@4.9.0\n",
        "!jupyter labextension list"
      ],
      "execution_count": 1,
      "outputs": [
        {
          "output_type": "stream",
          "text": [
            "Requirement already satisfied: plotly==4.9.0 in /usr/local/lib/python3.7/dist-packages (4.9.0)\n",
            "Requirement already satisfied: retrying>=1.3.3 in /usr/local/lib/python3.7/dist-packages (from plotly==4.9.0) (1.3.3)\n",
            "Requirement already satisfied: six in /usr/local/lib/python3.7/dist-packages (from plotly==4.9.0) (1.15.0)\n",
            "Requirement already satisfied: jupyterlab in /usr/local/lib/python3.7/dist-packages (3.0.15)\n",
            "Requirement already satisfied: ipywidgets>=7.5 in /usr/local/lib/python3.7/dist-packages (7.6.3)\n",
            "Requirement already satisfied: jupyter-core in /usr/local/lib/python3.7/dist-packages (from jupyterlab) (4.7.1)\n",
            "Requirement already satisfied: jinja2>=2.1 in /usr/local/lib/python3.7/dist-packages (from jupyterlab) (2.11.3)\n",
            "Requirement already satisfied: packaging in /usr/local/lib/python3.7/dist-packages (from jupyterlab) (20.9)\n",
            "Requirement already satisfied: tornado>=6.1.0 in /usr/local/lib/python3.7/dist-packages (from jupyterlab) (6.1)\n",
            "Requirement already satisfied: jupyter-server~=1.4 in /usr/local/lib/python3.7/dist-packages (from jupyterlab) (1.7.0)\n",
            "Requirement already satisfied: ipython in /usr/local/lib/python3.7/dist-packages (from jupyterlab) (5.5.0)\n",
            "Requirement already satisfied: jupyterlab-server~=2.3 in /usr/local/lib/python3.7/dist-packages (from jupyterlab) (2.5.1)\n",
            "Requirement already satisfied: nbclassic~=0.2 in /usr/local/lib/python3.7/dist-packages (from jupyterlab) (0.2.8)\n",
            "Requirement already satisfied: widgetsnbextension~=3.5.0 in /usr/local/lib/python3.7/dist-packages (from ipywidgets>=7.5) (3.5.1)\n",
            "Requirement already satisfied: traitlets>=4.3.1 in /usr/local/lib/python3.7/dist-packages (from ipywidgets>=7.5) (5.0.5)\n",
            "Requirement already satisfied: nbformat>=4.2.0 in /usr/local/lib/python3.7/dist-packages (from ipywidgets>=7.5) (5.1.3)\n",
            "Requirement already satisfied: jupyterlab-widgets>=1.0.0; python_version >= \"3.6\" in /usr/local/lib/python3.7/dist-packages (from ipywidgets>=7.5) (1.0.0)\n",
            "Requirement already satisfied: ipykernel>=4.5.1 in /usr/local/lib/python3.7/dist-packages (from ipywidgets>=7.5) (4.10.1)\n",
            "Requirement already satisfied: MarkupSafe>=0.23 in /usr/local/lib/python3.7/dist-packages (from jinja2>=2.1->jupyterlab) (1.1.1)\n",
            "Requirement already satisfied: pyparsing>=2.0.2 in /usr/local/lib/python3.7/dist-packages (from packaging->jupyterlab) (2.4.7)\n",
            "Requirement already satisfied: argon2-cffi in /usr/local/lib/python3.7/dist-packages (from jupyter-server~=1.4->jupyterlab) (20.1.0)\n",
            "Requirement already satisfied: pyzmq>=17 in /usr/local/lib/python3.7/dist-packages (from jupyter-server~=1.4->jupyterlab) (22.0.3)\n",
            "Requirement already satisfied: jupyter-client>=6.1.1 in /usr/local/lib/python3.7/dist-packages (from jupyter-server~=1.4->jupyterlab) (6.1.12)\n",
            "Requirement already satisfied: anyio<4,>=3.0.1; python_version >= \"3.7\" in /usr/local/lib/python3.7/dist-packages (from jupyter-server~=1.4->jupyterlab) (3.0.1)\n",
            "Requirement already satisfied: prometheus-client in /usr/local/lib/python3.7/dist-packages (from jupyter-server~=1.4->jupyterlab) (0.10.1)\n",
            "Requirement already satisfied: terminado>=0.8.3 in /usr/local/lib/python3.7/dist-packages (from jupyter-server~=1.4->jupyterlab) (0.9.4)\n",
            "Requirement already satisfied: Send2Trash in /usr/local/lib/python3.7/dist-packages (from jupyter-server~=1.4->jupyterlab) (1.5.0)\n",
            "Requirement already satisfied: nbconvert in /usr/local/lib/python3.7/dist-packages (from jupyter-server~=1.4->jupyterlab) (5.6.1)\n",
            "Requirement already satisfied: ipython-genutils in /usr/local/lib/python3.7/dist-packages (from jupyter-server~=1.4->jupyterlab) (0.2.0)\n",
            "Requirement already satisfied: websocket-client in /usr/local/lib/python3.7/dist-packages (from jupyter-server~=1.4->jupyterlab) (0.59.0)\n",
            "Requirement already satisfied: pexpect; sys_platform != \"win32\" in /usr/local/lib/python3.7/dist-packages (from ipython->jupyterlab) (4.8.0)\n",
            "Requirement already satisfied: prompt-toolkit<2.0.0,>=1.0.4 in /usr/local/lib/python3.7/dist-packages (from ipython->jupyterlab) (1.0.18)\n",
            "Requirement already satisfied: pickleshare in /usr/local/lib/python3.7/dist-packages (from ipython->jupyterlab) (0.7.5)\n",
            "Requirement already satisfied: setuptools>=18.5 in /usr/local/lib/python3.7/dist-packages (from ipython->jupyterlab) (56.1.0)\n",
            "Requirement already satisfied: decorator in /usr/local/lib/python3.7/dist-packages (from ipython->jupyterlab) (4.4.2)\n",
            "Requirement already satisfied: simplegeneric>0.8 in /usr/local/lib/python3.7/dist-packages (from ipython->jupyterlab) (0.8.1)\n",
            "Requirement already satisfied: pygments in /usr/local/lib/python3.7/dist-packages (from ipython->jupyterlab) (2.6.1)\n",
            "Requirement already satisfied: babel in /usr/local/lib/python3.7/dist-packages (from jupyterlab-server~=2.3->jupyterlab) (2.9.0)\n",
            "Requirement already satisfied: requests in /usr/local/lib/python3.7/dist-packages (from jupyterlab-server~=2.3->jupyterlab) (2.23.0)\n",
            "Requirement already satisfied: jsonschema>=3.0.1 in /usr/local/lib/python3.7/dist-packages (from jupyterlab-server~=2.3->jupyterlab) (3.2.0)\n",
            "Requirement already satisfied: json5 in /usr/local/lib/python3.7/dist-packages (from jupyterlab-server~=2.3->jupyterlab) (0.9.5)\n",
            "Requirement already satisfied: notebook<7 in /usr/local/lib/python3.7/dist-packages (from nbclassic~=0.2->jupyterlab) (5.3.1)\n",
            "Requirement already satisfied: six in /usr/local/lib/python3.7/dist-packages (from argon2-cffi->jupyter-server~=1.4->jupyterlab) (1.15.0)\n",
            "Requirement already satisfied: cffi>=1.0.0 in /usr/local/lib/python3.7/dist-packages (from argon2-cffi->jupyter-server~=1.4->jupyterlab) (1.14.5)\n",
            "Requirement already satisfied: python-dateutil>=2.1 in /usr/local/lib/python3.7/dist-packages (from jupyter-client>=6.1.1->jupyter-server~=1.4->jupyterlab) (2.8.1)\n",
            "Requirement already satisfied: idna>=2.8 in /usr/local/lib/python3.7/dist-packages (from anyio<4,>=3.0.1; python_version >= \"3.7\"->jupyter-server~=1.4->jupyterlab) (2.10)\n",
            "Requirement already satisfied: typing-extensions; python_version < \"3.8\" in /usr/local/lib/python3.7/dist-packages (from anyio<4,>=3.0.1; python_version >= \"3.7\"->jupyter-server~=1.4->jupyterlab) (3.7.4.3)\n",
            "Requirement already satisfied: sniffio>=1.1 in /usr/local/lib/python3.7/dist-packages (from anyio<4,>=3.0.1; python_version >= \"3.7\"->jupyter-server~=1.4->jupyterlab) (1.2.0)\n",
            "Requirement already satisfied: ptyprocess; os_name != \"nt\" in /usr/local/lib/python3.7/dist-packages (from terminado>=0.8.3->jupyter-server~=1.4->jupyterlab) (0.7.0)\n",
            "Requirement already satisfied: defusedxml in /usr/local/lib/python3.7/dist-packages (from nbconvert->jupyter-server~=1.4->jupyterlab) (0.7.1)\n",
            "Requirement already satisfied: mistune<2,>=0.8.1 in /usr/local/lib/python3.7/dist-packages (from nbconvert->jupyter-server~=1.4->jupyterlab) (0.8.4)\n",
            "Requirement already satisfied: testpath in /usr/local/lib/python3.7/dist-packages (from nbconvert->jupyter-server~=1.4->jupyterlab) (0.4.4)\n",
            "Requirement already satisfied: pandocfilters>=1.4.1 in /usr/local/lib/python3.7/dist-packages (from nbconvert->jupyter-server~=1.4->jupyterlab) (1.4.3)\n",
            "Requirement already satisfied: entrypoints>=0.2.2 in /usr/local/lib/python3.7/dist-packages (from nbconvert->jupyter-server~=1.4->jupyterlab) (0.3)\n",
            "Requirement already satisfied: bleach in /usr/local/lib/python3.7/dist-packages (from nbconvert->jupyter-server~=1.4->jupyterlab) (3.3.0)\n",
            "Requirement already satisfied: wcwidth in /usr/local/lib/python3.7/dist-packages (from prompt-toolkit<2.0.0,>=1.0.4->ipython->jupyterlab) (0.2.5)\n",
            "Requirement already satisfied: pytz>=2015.7 in /usr/local/lib/python3.7/dist-packages (from babel->jupyterlab-server~=2.3->jupyterlab) (2018.9)\n",
            "Requirement already satisfied: urllib3!=1.25.0,!=1.25.1,<1.26,>=1.21.1 in /usr/local/lib/python3.7/dist-packages (from requests->jupyterlab-server~=2.3->jupyterlab) (1.24.3)\n",
            "Requirement already satisfied: certifi>=2017.4.17 in /usr/local/lib/python3.7/dist-packages (from requests->jupyterlab-server~=2.3->jupyterlab) (2020.12.5)\n",
            "Requirement already satisfied: chardet<4,>=3.0.2 in /usr/local/lib/python3.7/dist-packages (from requests->jupyterlab-server~=2.3->jupyterlab) (3.0.4)\n",
            "Requirement already satisfied: attrs>=17.4.0 in /usr/local/lib/python3.7/dist-packages (from jsonschema>=3.0.1->jupyterlab-server~=2.3->jupyterlab) (20.3.0)\n",
            "Requirement already satisfied: importlib-metadata; python_version < \"3.8\" in /usr/local/lib/python3.7/dist-packages (from jsonschema>=3.0.1->jupyterlab-server~=2.3->jupyterlab) (3.10.1)\n",
            "Requirement already satisfied: pyrsistent>=0.14.0 in /usr/local/lib/python3.7/dist-packages (from jsonschema>=3.0.1->jupyterlab-server~=2.3->jupyterlab) (0.17.3)\n",
            "Requirement already satisfied: pycparser in /usr/local/lib/python3.7/dist-packages (from cffi>=1.0.0->argon2-cffi->jupyter-server~=1.4->jupyterlab) (2.20)\n",
            "Requirement already satisfied: webencodings in /usr/local/lib/python3.7/dist-packages (from bleach->nbconvert->jupyter-server~=1.4->jupyterlab) (0.5.1)\n",
            "Requirement already satisfied: zipp>=0.5 in /usr/local/lib/python3.7/dist-packages (from importlib-metadata; python_version < \"3.8\"->jsonschema>=3.0.1->jupyterlab-server~=2.3->jupyterlab) (3.4.1)\n",
            "-\b\\\b|\b/\b-\b\\\b|\b/\bAn error occured.\n",
            "ValueError: \n",
            "\"jupyterlab-plotly@4.9.0\" is not compatible with the current JupyterLab\n",
            "Conflicting Dependencies:\n",
            "JupyterLab                        Extension      Package\n",
            ">=3.0.8 <3.1.0                    >=1.3.0 <2.0.0||>=2.0.0 <3.0.0@jupyterlab/rendermime-interfaces\n",
            "See the log file for details:  /tmp/jupyterlab-debug-t9tf3cvp.log\n",
            "-\b\\\b|\b/\b-\b\\\b|\b/\b-\b\\\b-\b\\\b|\b/\b-\b\\\b|\b/\b-\b-\b\\\b|\b/\b-\b\\\b|\b/\b-\b\\\bBuilding jupyterlab assets (production, minimized)\n",
            "-\b\\\b|\b/\b-\b\\\b|\b/\b-\b\\\b|\b/\b-\b\\\b|\b/\b-\b\\\b|\b/\b-\b\\\b|\b/\b-\b\\\b|\b/\b-\b\\\b|\b/\b-\b\\\b|\b/\b-\b\\\b|\b/\b-\b\\\b|\b/\b-\b\\\b|\b/\b-\b\\\b|\b/\b-\b\\\b|\b/\b-\b\\\b|\b/\b-\b\\\b|\b/\b-\b\\\b|\b/\b-\b\\\b|\b/\b-\b\\\b|\b/\b-\b\\\b|\b/\b-\b\\\b|\b/\b-\b\\\b|\b/\b-\b\\\b|\b/\b-\b\\\b|\b/\b-\b\\\b|\b/\b-\b\\\b|\b/\b-\b\\\b|\b/\b-\b\\\b|\b/\b-\b\\\b|\b/\b-\b\\\b|\b/\b-\b\\\b|\b/\b-\b\\\b|\b/\b-\b\\\b|\b/\b-\b\\\b|\b/\b-\b\\\b|\b/\b-\b\\\b|\b/\b-\b\\\b|\b/\b-\b\\\b|\b/\b-\b\\\b|\b/\b-\b\\\b|\b/\b-\b\\\b|\b/\b-\b\\\b|\b/\b-\b\\\b|\b/\b-\b\\\b|\b/\b-\b\\\b|\b/\b-\b\\\b|\b/\b-\b\\\b|\b/\b-\b\\\b|\b/\b-\b\\\b|\b/\b-\b\\\b|\b/\b-\b\\\b|\b/\b-\b\\\b|\b/\b-\b\\\b|\b/\b-\b\\\b|\b/\b-\b\\\b|\b/\b-\b\\\b|\b/\b-\b\\\b|\b/\b-\b\\\b|\b/\b-\b\\\b|\b/\b-\b\\\b|\b/\b-\b\\\b|\b/\b-\b\\\b|\b/\b-\b\\\b|\b/\b-\b\\\b|\b/\b-\b\\\b|\b/\b-\b\\\b|\b/\b-\b\\\b|\b/\b-\b\\\b|\b/\b-\b\\\b|\b/\b-\b\\\b|\b/\b-\b\\\b|\b/\b-\b\\\b|\b/\b-\b\\\b|\b/\b-\b\\\b|\b/\b-\b\\\b|\b/\b-\b\\\b|\b/\b-\b\\\b|\b/\b-\b\\\b|\b/\b-\b\\\b|\b/\b-\b\\\b|\b-\b\\\b|\b/\b-\b\\\b|\b/\b-\b\\\b|\b/\b-\b\\\b|\b/\b-\b\\\b|\b/\b-\b\\\b|\b/\b-\b\\\b|\b/\b-\b\\\b|\b/\b-\b\\\b|\b/\b-\b\\\b|\b/\b-\b\\\b|\b/\b-\b\\\b|\b/\b-\b\\\b|\b/\b-\b\\\b|\b/\b-\b\\\b|\b/\b-\b-\b\\\b|\b/\b-\b\\\b|\b/\b-\b\\\b|\b/\b-\b\\\b|\b/\b-\b\\\b|\b/\b-\b\\\b|\b/\b-\b\\\b|\b/\b-\b\\\b|\b/\b-\b\\\b|\b/\b-\b\\\b|\b/\b-\b\\\b|\b/\b-\b\\\b|\b/\b-\b\\\b|\b/\b-\b\\\b|\b/\b-\b\\\b|\b/\b-\b\\\b|\b/\b-\b\\\b|\b/\b-\b\\\b|\b/\b-\b\\\b|\b/\b-\b\\\b|\b/\b-\b\\\b|\b/\b-\b\\\b|\b/\b-\b\\\b|\b/\b-\b\\\b|\b/\b-\b\\\b|\b/\b-\b\\\b|\b/\b-\b\\\b|\b/\b-\b\\\b|\b/\b-\b\\\b|\b/\b-\b\\\b|\b/\b-\b\\\b|\b/\b-\b\\\b|\b/\b-\b\\\b|\b/\b-\b\\\b|\b/\b-\b\\\b|\b/\b-\b\\\b|\b/\b-\b\\\b|\b/\b-\b\\\b|\b/\b-\b\\\b|\b/\b-\b\\\b|\b/\b-\b\\\b|\b/\b-\b\\\b|\b/\b-\b\\\b|\b/\b-\b\\\b|\b/\b-\b\\\b|\b/\b-\b\\\b|\b/\b-\b\\\b|\b/\b-\b\\\b|\b/\b-\b\\\b|\b/\b-\b\\\b|\b/\b-\b\\\b|\b/\b-\b\\\b|\b/\b-\b\\\b|\b/\b-\b\\\b|\b/\b-\b\\\b|\b/\b-\b\\\b|\b/\b-\b\\\b|\b/\b-\b\\\b|\b/\b-\b\\\b|\b/\b-\b\\\b|\b/\b-\b\\\b|\b/\b-\b\\\b|\b/\b-\b\\\b|\b/\b-\b\\\b|\b/\b-\b\\\b|\b/\b-\b\\\b|\b/\b-\b\\\b|\b/\b-\b\\\b|\b/\b-\b\\\b|\b/\b-\b\\\b|\b/\b-\b\\\b|\b/\b-\b\\\b|\b/\b-\b\\\b|\b/\b-\b\\\b|\b/\b-\b\\\b|\b/\b-\b\\\b|\b/\b-\b\\\b|\b/\b-\b\\\b|\b/\b-\b\\\b|\b/\b-\b\\\b|\b/\b-\b\\\b|\b/\b-\b\\\b|\b/\b-\b\\\b|\b/\b-\b\\\b|\b/\b-\b\\\b|\b/\b-\b\\\b|\b/\b-\b\\\b|\b/\b-\b\\\b|\b/\b-\b\\\b|\b/\b-\b\\\b|\b/\b-\b\\\b|\b/\b-\b\\\b|\b/\b-\b\\\b|\b/\b-\b\\\b|\b/\b-\b\\\b|\b/\b-\b\\\b|\b/\b-\b\\\b|\b/\b-\b\\\b|\b/\b-\b\\\b|\b/\b-\b\\\b|\b/\b-\b\\\b|\b/\b-\b\\\b|\b/\b-\b\\\b|\b/\b-\b\\\b|\b/\b-\b\\\b|\b/\b-\b\\\b|\b/\b-\b\\\b|\b/\b-\b\\\b|\b/\b-\b\\\b|\b/\b-\b\\\b|\b/\b-\b\\\b|\b/\b-\b\\\b|\b/\b-\b\\\b|\b/\b-\b\\\b|\b/\b-\b\\\b|\b/\b-\b\\\b|\b/\b-\b\\\b|\b/\b-\b\\\b|\b/\b-\b\\\b|\b/\b-\b\\\b|\b/\b-\b\\\b|\b/\b-\b\\\b|\b/\b-\b\\\b|\b/\b-\b\\\b|\b/\b-\b\\\b|\b/\b-\b\\\b|\b/\b-\b\\\b|\b/\b-\b\\\b|\b/\b-\b\\\b|\b/\b-\b\\\b|\b/\b-\b\\\b|\b/\b-\b\\\b|\b/\b-\b\\\b|\b/\b-\b\\\b|\b/\b-\b\\\b|\b/\b-\b\\\b|\b/\b-\b\\\b|\b/\b-\b\\\b|\b/\b-\b\\\b|\b/\b-\b\\\b|\b/\b-\b\\\b|\b/\b-\b\\\b|\b/\b-\b\\\b|\b/\b-\b\\\b|\b/\b-\b\\\b|\b/\b-\b\\\b|\b/\b-\b\\\b|\b/\b-\b\\\b|\b/\b-\b\\\b|\b/\b-\b\\\b|\b/\b-\b\\\b|\b/\b-\b\\\b|\b/\b-\b\\\b|\b/\b-\b\\\b|\b/\b-\b\\\b|\b/\b-\b\\\b|\b/\b-\b\\\b|\b/\b-\b\\\b|\b/\b-\b\\\b|\b/\b-\b\\\b|\b/\b-\b\\\b|\b/\b-\b\\\b|\b/\b-\b\\\b|\b/\b-\b\\\b|\b/\b-\b\\\b|\b/\b-\b\\\b|\b/\b-\b\\\b|\b/\b-\b\\\b|\b/\b-\b\\\b|\b/\b-\b\\\b|\b/\b-\b\\\b|\b/\b-\b\\\b|\b/\b-\b\\\b|\b/\b-\b\\\b|\b/\b-\b\\\b|\b/\b-\b\\\b|\b/\b-\b\\\b|\b/\b-\b\\\b|\b/\b-\b\\\b|\b/\b-\b\\\b|\b/\b-\b\\\b|\b/\b-\b\\\b|\b/\b-\b\\\b|\b/\b-\b\\\b|\b/\b-\b\\\b|\b/\b-\b\\\b|\b/\b-\b\\\b|\b/\b-\b\\\b|\b/\b-\b\\\b|\b/\b-\b\\\b|\b/\b-\b\\\b|\b/\b-\b\\\b|\b/\b-\b\\\b|\b/\b-\b\\\b|\b/\b-\b\\\b|\b/\b-\b\\\b|\b/\b-\b\\\b|\b/\b-\b\\\b|\b/\b-\b\\\b|\b/\b-\b\\\b|\b/\b-\b\\\b|\b/\b-\b\\\b|\b/\b-\b\\\b|\b/\b-\b\\\b|\b/\b-\b\\\b|\b/\b-\b\\\b|\b/\b-\b\\\b|\b/\b-\b\\\b|\b/\b-\b\\\b|\b/\b-\b\\\b|\b/\b-\b\\\b|\b/\b-\b\\\b|\b/\b-\b\\\b|\b/\b-\b\\\b|\b/\b-\b\\\b|\b/\b-\b\\\b|\b/\b-\b\\\b|\b/\b-\b\\\b|\b/\b-\b\\\b|\b/\b-\b\\\b|\b/\b-\b\\\b|\b/\b-\b\\\b|\b/\b-\b\\\b|\b/\b-\b\\\b|\b/\b-\b\\\b|\b/\b-\b\\\b|\b/\b-\b\\\b|\b/\b-\b\\\b|\b/\b-\b\\\b|\b/\b-\b\\\b|\b/\b-\b\\\b|\b/\b-\b\\\b|\b/\b-\b\\\b|\b/\b-\b\\\b|\b/\b-\b\\\b|\b/\b-\b\\\b|\b/\b-\b\\\b|\b/\b-\b\\\b|\b/\b-\b\\\b|\b/\b-\b\\\b|\b/\b-\b\\\b|\b/\b-\b\\\b|\b/\b-\b\\\b|\b/\b-\b\\\b|\b/\b-\b\\\b|\b/\b-\b\\\b|\b/\b-\b\\\b|\b/\b-\b\\\b|\b/\b-\b\\\b|\b/\b-\b\\\b|\b/\b-\b\\\b|\b/\b-\b\\\b|\b/\b-\b\\\b|\b/\b-\b\\\b|\b/\b-\b\\\b|\b/\b-\b\\\b|\b/\b-\b\\\b|\b/\b-\b\\\b|\b/\b-\b\\\b|\b/\b-\b\\\b|\b/\b-\b\\\b|\b/\b-\b\\\b|\b/\b-\b\\\b|\b/\b-\b\\\b|\b/\b-\b\\\b|\b/\b-\b\\\b|\b/\b-\b\\\b|\b/\b-\b\\\b|\b/\b-\b\\\b|\b/\b-\b\\\b|\b/\b-\b\\\b|\b/\b-\b\\\b|\b/\b-\b\\\b|\b/\b-\b\\\b|\b/\b-\b\\\b|\b/\b-\b\\\b|\b/\b-\b\\\b|\b/\b-\b\\\b|\b/\b-\b\\\b|\b/\b-\b\\\b|\b/\b-\b\\\b|\bJupyterLab v3.0.15\n",
            "/usr/local/share/jupyter/labextensions\n",
            "        @jupyter-widgets/jupyterlab-manager v3.0.0 \u001b[32menabled\u001b[0m \u001b[32mOK\u001b[0m (python, jupyterlab_widgets)\n",
            "        @pyviz/jupyterlab_pyviz v2.0.1 \u001b[32menabled\u001b[0m \u001b[32mOK\u001b[0m (python, pyviz_comms)\n",
            "\n",
            "Other labextensions (built into JupyterLab)\n",
            "   app dir: /usr/local/share/jupyter/lab\n",
            "        plotlywidget v4.9.0 \u001b[32menabled\u001b[0m \u001b[32mOK\u001b[0m\n",
            "\n"
          ],
          "name": "stdout"
        }
      ]
    },
    {
      "cell_type": "code",
      "metadata": {
        "colab": {
          "base_uri": "https://localhost:8080/"
        },
        "id": "mmkGQ08yJZAz",
        "outputId": "a9bc07ca-0dec-4392-e01b-c6e7b4386016"
      },
      "source": [
        "!jupyter lab build"
      ],
      "execution_count": 2,
      "outputs": [
        {
          "output_type": "stream",
          "text": [
            "[LabBuildApp] JupyterLab 3.0.15\n",
            "[LabBuildApp] Building in /usr/local/share/jupyter/lab\n",
            "[LabBuildApp] Building jupyterlab assets (production, minimized)\n",
            "-\b\\\b|\b/\b-\b\\\b|\b/\b-\b\\\b|\b/\b-\b\\\b|\b-\b\\\b|\b/\b-\b\\\b|\b/\b-\b\\\b-\b\\\b|\b/\b-\b\\\b|\b/\b-\b\\\b|\b/\b-\b\\\b|\b/\b-\b\\\b|\b/\b-\b\\\b|\b/\b-\b\\\b|\b/\b-\b\\\b|\b/\b-\b\\\b|\b/\b-\b\\\b|\b/\b-\b\\\b|\b/\b-\b\\\b|\b/\b-\b\\\b|\b/\b-\b\\\b|\b/\b-\b\\\b|\b/\b-\b\\\b|\b/\b-\b\\\b|\b/\b-\b\\\b|\b/\b-\b\\\b|\b/\b-\b\\\b|\b/\b-\b\\\b|\b/\b-\b\\\b|\b/\b-\b\\\b|\b/\b-\b\\\b|\b/\b-\b\\\b|\b/\b-\b\\\b|\b/\b-\b\\\b|\b/\b-\b\\\b|\b/\b-\b\\\b|\b/\b-\b\\\b|\b/\b-\b\\\b|\b/\b-\b\\\b|\b/\b-\b\\\b|\b/\b-\b\\\b|\b/\b-\b\\\b|\b/\b-\b\\\b|\b/\b-\b\\\b|\b/\b-\b\\\b|\b/\b-\b\\\b|\b/\b-\b\\\b|\b/\b-\b\\\b|\b/\b-\b\\\b|\b/\b-\b\\\b|\b/\b-\b\\\b|\b/\b-\b\\\b|\b/\b-\b\\\b|\b/\b-\b\\\b|\b/\b-\b\\\b|\b/\b-\b\\\b|\b/\b-\b\\\b|\b/\b-\b\\\b|\b/\b-\b\\\b|\b/\b-\b\\\b|\b/\b-\b\\\b|\b/\b-\b\\\b|\b/\b-\b\\\b|\b/\b-\b\\\b|\b/\b-\b\\\b|\b/\b-\b\\\b|\b/\b-\b\\\b|\b/\b-\b\\\b|\b/\b-\b\\\b|\b/\b-\b\\\b|\b/\b-\b\\\b|\b/\b-\b\\\b|\b/\b-\b\\\b|\b/\b-\b\\\b|\b/\b-\b\\\b|\b/\b-\b\\\b|\b/\b-\b\\\b|\b/\b-\b\\\b|\b/\b-\b\\\b|\b/\b-\b\\\b|\b/\b-\b\\\b|\b/\b-\b\\\b|\b/\b-\b\\\b|\b/\b-\b\\\b|\b/\b-\b\\\b|\b/\b-\b\\\b|\b/\b-\b\\\b|\b/\b-\b\\\b|\b/\b-\b\\\b|\b/\b-\b\\\b|\b/\b-\b\\\b|\b/\b-\b\\\b|\b/\b-\b\\\b|\b/\b-\b\\\b|\b/\b-\b\\\b|\b/\b-\b\\\b|\b/\b-\b\\\b|\b/\b-\b\\\b|\b/\b-\b\\\b|\b/\b-\b\\\b|\b/\b-\b\\\b|\b/\b-\b\\\b|\b/\b-\b\\\b|\b/\b-\b\\\b|\b/\b-\b\\\b|\b/\b-\b\\\b|\b/\b-\b\\\b|\b/\b-\b\\\b|\b/\b-\b\\\b|\b/\b-\b\\\b|\b/\b-\b\\\b|\b/\b-\b\\\b|\b/\b-\b\\\b|\b/\b-\b\\\b|\b/\b-\b\\\b|\b/\b-\b\\\b|\b/\b-\b\\\b|\b/\b-\b\\\b|\b/\b-\b\\\b|\b/\b-\b\\\b|\b/\b-\b\\\b|\b/\b-\b\\\b|\b/\b-\b\\\b|\b/\b-\b\\\b|\b/\b-\b\\\b|\b/\b-\b\\\b|\b/\b-\b\\\b|\b/\b-\b\\\b|\b/\b-\b\\\b|\b/\b-\b\\\b|\b/\b-\b\\\b|\b/\b-\b\\\b|\b/\b-\b\\\b|\b/\b-\b\\\b|\b/\b-\b\\\b|\b/\b-\b\\\b|\b/\b-\b\\\b|\b/\b-\b\\\b|\b/\b-\b\\\b|\b/\b-\b\\\b|\b/\b-\b\\\b|\b/\b-\b\\\b|\b/\b-\b\\\b|\b/\b-\b\\\b|\b/\b-\b\\\b|\b/\b-\b\\\b|\b/\b-\b\\\b|\b/\b-\b\\\b|\b/\b-\b\\\b|\b/\b-\b\\\b|\b/\b-\b\\\b|\b/\b-\b\\\b|\b/\b-\b\\\b|\b/\b-\b\\\b|\b/\b-\b\\\b|\b/\b-\b\\\b|\b/\b-\b\\\b|\b/\b-\b\\\b|\b/\b-\b\\\b|\b/\b-\b\\\b|\b/\b-\b\\\b|\b/\b-\b\\\b|\b/\b-\b\\\b|\b/\b-\b\\\b|\b/\b-\b\\\b|\b/\b-\b\\\b|\b/\b-\b\\\b|\b/\b-\b\\\b|\b/\b-\b\\\b|\b/\b-\b\\\b|\b/\b-\b\\\b|\b/\b-\b\\\b|\b/\b-\b\\\b|\b/\b-\b\\\b|\b/\b-\b\\\b|\b/\b-\b\\\b|\b/\b-\b\\\b|\b/\b-\b\\\b|\b/\b-\b\\\b|\b/\b-\b\\\b|\b/\b-\b\\\b|\b/\b-\b\\\b|\b/\b-\b\\\b|\b/\b-\b\\\b|\b/\b-\b\\\b|\b/\b-\b\\\b|\b/\b-\b\\\b|\b/\b-\b\\\b|\b/\b-\b\\\b|\b/\b-\b\\\b|\b/\b-\b\\\b|\b/\b-\b\\\b|\b/\b-\b\\\b|\b/\b-\b\\\b|\b/\b-\b\\\b|\b/\b-\b\\\b|\b/\b-\b\\\b|\b/\b-\b\\\b|\b/\b-\b\\\b|\b/\b-\b\\\b|\b/\b-\b\\\b|\b/\b-\b\\\b|\b/\b-\b\\\b|\b/\b-\b\\\b|\b/\b-\b\\\b|\b/\b-\b\\\b|\b/\b-\b\\\b|\b/\b-\b\\\b|\b/\b-\b\\\b|\b/\b-\b\\\b|\b/\b-\b\\\b|\b/\b-\b\\\b|\b/\b-\b\\\b|\b/\b-\b\\\b|\b/\b-\b\\\b|\b/\b-\b\\\b|\b/\b-\b\\\b|\b/\b-\b\\\b|\b/\b-\b\\\b|\b/\b-\b\\\b|\b/\b-\b\\\b|\b/\b-\b\\\b|\b/\b-\b\\\b|\b/\b-\b\\\b|\b/\b-\b\\\b|\b/\b-\b\\\b|\b/\b-\b\\\b|\b/\b-\b\\\b|\b/\b-\b\\\b|\b/\b-\b\\\b|\b/\b-\b\\\b|\b/\b-\b\\\b|\b/\b-\b\\\b|\b/\b-\b\\\b|\b/\b-\b\\\b|\b/\b-\b\\\b|\b/\b-\b\\\b|\b/\b-\b\\\b|\b/\b-\b\\\b|\b/\b-\b\\\b|\b/\b-\b\\\b|\b/\b-\b\\\b|\b/\b-\b\\\b|\b/\b-\b\\\b|\b/\b-\b\\\b|\b/\b-\b\\\b|\b/\b-\b\\\b|\b/\b-\b\\\b|\b/\b-\b\\\b|\b/\b-\b\\\b|\b/\b-\b\\\b|\b/\b-\b\\\b|\b/\b-\b\\\b|\b/\b-\b\\\b|\b/\b-\b\\\b|\b/\b-\b\\\b|\b/\b-\b\\\b|\b/\b-\b\\\b|\b/\b-\b\\\b|\b/\b-\b\\\b|\b/\b-\b\\\b|\b/\b-\b\\\b|\b/\b-\b\\\b|\b/\b-\b\\\b|\b/\b-\b\\\b|\b/\b-\b\\\b|\b/\b-\b\\\b|\b/\b-\b\\\b|\b/\b-\b\\\b|\b/\b-\b\\\b|\b/\b-\b\\\b|\b/\b-\b\\\b|\b/\b-\b\\\b|\b/\b-\b\\\b|\b/\b-\b\\\b|\b/\b-\b\\\b|\b/\b-\b\\\b|\b/\b-\b\\\b|\b/\b-\b\\\b|\b/\b-\b\\\b|\b/\b-\b\\\b|\b/\b-\b\\\b|\b/\b-\b\\\b|\b/\b-\b\\\b|\b/\b-\b\\\b|\b/\b-\b\\\b|\b/\b-\b\\\b|\b/\b-\b\\\b|\b/\b-\b\\\b|\b/\b-\b\\\b|\b/\b-\b\\\b|\b/\b-\b\\\b|\b/\b-\b\\\b|\b/\b-\b\\\b|\b/\b-\b\\\b|\b/\b-\b\\\b|\b/\b-\b\\\b|\b/\b-\b\\\b|\b/\b-\b\\\b|\b/\b-\b\\\b|\b/\b-\b\\\b|\b/\b-\b\\\b|\b/\b-\b\\\b|\b/\b"
          ],
          "name": "stdout"
        }
      ]
    },
    {
      "cell_type": "markdown",
      "metadata": {
        "id": "hXF7cT5LJZAz"
      },
      "source": [
        "## CLUSTERING\n",
        "### DBSCAN"
      ]
    },
    {
      "cell_type": "code",
      "metadata": {
        "id": "KEUX9SahJZAz"
      },
      "source": [
        "# Importing usefull libraries\n",
        "\n",
        "import pandas as pd\n",
        "import numpy as np\n",
        "from sklearn.preprocessing import StandardScaler\n",
        "from sklearn.cluster import DBSCAN\n",
        "import seaborn as sns\n",
        "import matplotlib.pyplot as plt\n",
        "from sklearn.metrics import silhouette_score\n",
        "import plotly.express as px\n",
        "import plotly.graph_objects as go"
      ],
      "execution_count": 3,
      "outputs": []
    },
    {
      "cell_type": "code",
      "metadata": {
        "colab": {
          "base_uri": "https://localhost:8080/",
          "height": 195
        },
        "id": "29wu64AFJZA0",
        "outputId": "345c7e5b-d28a-488b-cd3e-1c80b780ffd3"
      },
      "source": [
        "# Importing the pre-cleaned dataset with gps information for the 1st of September at 6PM\n",
        "\n",
        "X = pd.read_csv('uber_pickups_1_09_6PM.csv')\n",
        "X.head()"
      ],
      "execution_count": 4,
      "outputs": [
        {
          "output_type": "execute_result",
          "data": {
            "text/html": [
              "<div>\n",
              "<style scoped>\n",
              "    .dataframe tbody tr th:only-of-type {\n",
              "        vertical-align: middle;\n",
              "    }\n",
              "\n",
              "    .dataframe tbody tr th {\n",
              "        vertical-align: top;\n",
              "    }\n",
              "\n",
              "    .dataframe thead th {\n",
              "        text-align: right;\n",
              "    }\n",
              "</style>\n",
              "<table border=\"1\" class=\"dataframe\">\n",
              "  <thead>\n",
              "    <tr style=\"text-align: right;\">\n",
              "      <th></th>\n",
              "      <th>Lat</th>\n",
              "      <th>Lon</th>\n",
              "    </tr>\n",
              "  </thead>\n",
              "  <tbody>\n",
              "    <tr>\n",
              "      <th>0</th>\n",
              "      <td>40.7210</td>\n",
              "      <td>-73.9977</td>\n",
              "    </tr>\n",
              "    <tr>\n",
              "      <th>1</th>\n",
              "      <td>40.7641</td>\n",
              "      <td>-73.9670</td>\n",
              "    </tr>\n",
              "    <tr>\n",
              "      <th>2</th>\n",
              "      <td>40.7469</td>\n",
              "      <td>-73.9960</td>\n",
              "    </tr>\n",
              "    <tr>\n",
              "      <th>3</th>\n",
              "      <td>40.6864</td>\n",
              "      <td>-73.9686</td>\n",
              "    </tr>\n",
              "    <tr>\n",
              "      <th>4</th>\n",
              "      <td>40.7451</td>\n",
              "      <td>-73.9768</td>\n",
              "    </tr>\n",
              "  </tbody>\n",
              "</table>\n",
              "</div>"
            ],
            "text/plain": [
              "       Lat      Lon\n",
              "0  40.7210 -73.9977\n",
              "1  40.7641 -73.9670\n",
              "2  40.7469 -73.9960\n",
              "3  40.6864 -73.9686\n",
              "4  40.7451 -73.9768"
            ]
          },
          "metadata": {
            "tags": []
          },
          "execution_count": 4
        }
      ]
    },
    {
      "cell_type": "code",
      "metadata": {
        "colab": {
          "base_uri": "https://localhost:8080/",
          "height": 105
        },
        "id": "wMnQNgUHJZA0",
        "outputId": "c264a576-b132-4d98-a320-ee72866ec812"
      },
      "source": [
        "# Standardizing values\n",
        "\n",
        "sc = StandardScaler()\n",
        "X_norm = sc.fit_transform(X)\n",
        "display(X_norm[0:5])"
      ],
      "execution_count": 5,
      "outputs": [
        {
          "output_type": "display_data",
          "data": {
            "text/plain": [
              "array([[-0.33915859, -0.49310311],\n",
              "       [ 0.604004  , -0.10320332],\n",
              "       [ 0.22761429, -0.47151257],\n",
              "       [-1.09631464, -0.12352383],\n",
              "       [ 0.18822466, -0.22766645]])"
            ]
          },
          "metadata": {
            "tags": []
          }
        }
      ]
    },
    {
      "cell_type": "markdown",
      "metadata": {
        "id": "sW2dC208JZA1"
      },
      "source": [
        "### BUILDING CLUSTERS"
      ]
    },
    {
      "cell_type": "code",
      "metadata": {
        "id": "gPQo-y9nJZA1"
      },
      "source": [
        "# Instancing and predicting\n",
        "\n",
        "db = DBSCAN(eps = 0.5, min_samples = 90, metric = 'l2')\n",
        "db.fit(X_norm)\n",
        "y = db.fit_predict(X_norm)"
      ],
      "execution_count": 6,
      "outputs": []
    },
    {
      "cell_type": "code",
      "metadata": {
        "id": "JkeUMvVKJZA1"
      },
      "source": [
        "# Adding the cluster number to the original dataset\n",
        "X[\"cluster\"] = y"
      ],
      "execution_count": 7,
      "outputs": []
    },
    {
      "cell_type": "code",
      "metadata": {
        "colab": {
          "base_uri": "https://localhost:8080/",
          "height": 266
        },
        "id": "QUVZKdEIJZA1",
        "outputId": "35cea1ef-ae31-4db0-89a6-25a034e59f25"
      },
      "source": [
        "display(X.head())\n",
        "display(X[\"cluster\"].value_counts())"
      ],
      "execution_count": 8,
      "outputs": [
        {
          "output_type": "display_data",
          "data": {
            "text/html": [
              "<div>\n",
              "<style scoped>\n",
              "    .dataframe tbody tr th:only-of-type {\n",
              "        vertical-align: middle;\n",
              "    }\n",
              "\n",
              "    .dataframe tbody tr th {\n",
              "        vertical-align: top;\n",
              "    }\n",
              "\n",
              "    .dataframe thead th {\n",
              "        text-align: right;\n",
              "    }\n",
              "</style>\n",
              "<table border=\"1\" class=\"dataframe\">\n",
              "  <thead>\n",
              "    <tr style=\"text-align: right;\">\n",
              "      <th></th>\n",
              "      <th>Lat</th>\n",
              "      <th>Lon</th>\n",
              "      <th>cluster</th>\n",
              "    </tr>\n",
              "  </thead>\n",
              "  <tbody>\n",
              "    <tr>\n",
              "      <th>0</th>\n",
              "      <td>40.7210</td>\n",
              "      <td>-73.9977</td>\n",
              "      <td>0</td>\n",
              "    </tr>\n",
              "    <tr>\n",
              "      <th>1</th>\n",
              "      <td>40.7641</td>\n",
              "      <td>-73.9670</td>\n",
              "      <td>0</td>\n",
              "    </tr>\n",
              "    <tr>\n",
              "      <th>2</th>\n",
              "      <td>40.7469</td>\n",
              "      <td>-73.9960</td>\n",
              "      <td>0</td>\n",
              "    </tr>\n",
              "    <tr>\n",
              "      <th>3</th>\n",
              "      <td>40.6864</td>\n",
              "      <td>-73.9686</td>\n",
              "      <td>0</td>\n",
              "    </tr>\n",
              "    <tr>\n",
              "      <th>4</th>\n",
              "      <td>40.7451</td>\n",
              "      <td>-73.9768</td>\n",
              "      <td>0</td>\n",
              "    </tr>\n",
              "  </tbody>\n",
              "</table>\n",
              "</div>"
            ],
            "text/plain": [
              "       Lat      Lon  cluster\n",
              "0  40.7210 -73.9977        0\n",
              "1  40.7641 -73.9670        0\n",
              "2  40.7469 -73.9960        0\n",
              "3  40.6864 -73.9686        0\n",
              "4  40.7451 -73.9768        0"
            ]
          },
          "metadata": {
            "tags": []
          }
        },
        {
          "output_type": "display_data",
          "data": {
            "text/plain": [
              " 0    955\n",
              "-1    181\n",
              " 1    112\n",
              "Name: cluster, dtype: int64"
            ]
          },
          "metadata": {
            "tags": []
          }
        }
      ]
    },
    {
      "cell_type": "markdown",
      "metadata": {
        "id": "vyChxNDxJZA2"
      },
      "source": [
        "### VISUALIZING THROUGH A SCATTER PLOT"
      ]
    },
    {
      "cell_type": "code",
      "metadata": {
        "colab": {
          "base_uri": "https://localhost:8080/",
          "height": 406
        },
        "id": "781ivEX1JZA2",
        "outputId": "5ef3a8e0-f7dd-492d-a83d-665f938ed9aa"
      },
      "source": [
        "plt.figure(figsize=(8,6))\n",
        "sns.scatterplot(x ='Lat', y = \"Lon\", data = X, hue = \"cluster\")"
      ],
      "execution_count": 11,
      "outputs": [
        {
          "output_type": "execute_result",
          "data": {
            "text/plain": [
              "<matplotlib.axes._subplots.AxesSubplot at 0x7ff70ee07490>"
            ]
          },
          "metadata": {
            "tags": []
          },
          "execution_count": 11
        },
        {
          "output_type": "display_data",
          "data": {
            "image/png": "[encoded data removed]",
            "text/plain": [
              "<Figure size 576x432 with 1 Axes>"
            ]
          },
          "metadata": {
            "tags": [],
            "needs_background": "light"
          }
        }
      ]
    },
    {
      "cell_type": "markdown",
      "metadata": {
        "id": "aq12SXDuJZA2"
      },
      "source": [
        "### VISUALIZING ON A MAP"
      ]
    },
    {
      "cell_type": "code",
      "metadata": {
        "colab": {
          "base_uri": "https://localhost:8080/",
          "height": 542
        },
        "id": "k95GukrPJZA2",
        "outputId": "189f8739-1f0f-4221-f559-09c7443745bb"
      },
      "source": [
        "fig = px.scatter_mapbox(X, lat = 'Lat', \n",
        "                        lon = 'Lon', \n",
        "                        color = \"cluster\", \n",
        "                        zoom = 10, \n",
        "                        mapbox_style = \"carto-positron\")\n",
        "\n",
        "fig.show()"
      ],
      "execution_count": 10,
      "outputs": [
        {
          "output_type": "display_data",
          "data": {
            "text/html": [
              "<html>\n",
              "<head><meta charset=\"utf-8\" /></head>\n",
              "<body>\n",
              "    <div>\n",
              "            <script src=\"https://cdnjs.cloudflare.com/ajax/libs/mathjax/2.7.5/MathJax.js?config=TeX-AMS-MML_SVG\"></script><script type=\"text/javascript\">if (window.MathJax) {MathJax.Hub.Config({SVG: {font: \"STIX-Web\"}});}</script>\n",
              "                <script type=\"text/javascript\">window.PlotlyConfig = {MathJaxConfig: 'local'};</script>\n",
              "        <script src=\"https://cdn.plot.ly/plotly-latest.min.js\"></script>    \n",
              "            <div id=\"6ef3f7b9-db65-4994-87c2-d7333721f48c\" class=\"plotly-graph-div\" style=\"height:525px; width:100%;\"></div>\n",
              "            <script type=\"text/javascript\">\n",
              "                \n",
              "                    window.PLOTLYENV=window.PLOTLYENV || {};\n",
              "                    \n",
              "                if (document.getElementById(\"6ef3f7b9-db65-4994-87c2-d7333721f48c\")) {\n",
              "                    Plotly.newPlot(\n",
              "                        '6ef3f7b9-db65-4994-87c2-d7333721f48c',\n",
              "                        [{\"hovertemplate\": \"Lat=%{lat}<br>Lon=%{lon}<br>cluster=%{marker.color}<extra></extra>\", \"lat\": [40.721, 40.7641, 40.7469, 40.6864, 40.7451, 40.7267, 40.7659, 40.6553, 40.7529, 40.7274, 40.7685, 40.8027, 40.741, 40.7367, 40.7583, 40.7372, 40.7988, 40.7721, 40.7426, 40.7421, 40.7894, 40.7641, 40.741, 40.7726, 40.7634, 40.7708, 40.69, 40.7229, 40.769, 40.726, 40.7488, 40.751, 40.7482, 40.6447, 40.758, 40.7508, 40.7782, 40.7503, 40.7526, 40.685, 40.6458, 40.7506, 40.7741, 40.7046, 40.7866, 40.7225, 40.6572, 40.7533, 40.7543, 40.7435, 40.7315, 40.7683, 40.7407, 40.7117, 40.7543, 40.7232, 40.7689, 40.7298, 40.728, 40.7757, 40.6731, 40.7054, 40.68, 40.7273, 40.774, 40.7365, 40.7808, 40.6935, 40.7684, 40.734, 40.7503, 40.6915, 40.7518, 40.7479, 40.7741, 40.7277, 40.7486, 40.7019, 40.7361, 40.7664, 40.6871, 40.7447, 40.7457, 40.6622, 40.725, 40.735, 40.8077, 40.7167, 40.7182, 40.734, 40.8772, 40.6807, 40.7845, 40.7355, 40.7438, 40.7824, 40.7439, 40.7422, 40.7476, 40.7116, 40.7273, 40.6852, 40.7565, 40.7261, 40.7171, 40.743, 40.6915, 40.7238, 40.7005, 40.7759, 40.7516, 40.7423, 40.7169, 40.7451, 40.7475, 40.6688, 40.7413, 40.7469, 40.7468, 40.7229, 40.7366, 40.7366, 40.726, 40.7686, 40.785, 40.7127, 40.7391, 40.7351, 40.7705, 40.7686, 40.7516, 40.7325, 40.6888, 40.5608, 40.774, 40.7799, 40.7032, 40.7617, 40.7958, 40.6231, 40.7134, 40.7473, 40.717, 40.717, 40.6418, 40.6426, 40.7279, 40.824, 40.7186, 40.7499, 40.7377, 40.7588, 40.77, 40.6441, 40.7472, 40.7252, 40.7466, 40.7204, 40.6483, 40.6923, 40.7162, 40.7755, 40.7257, 40.7203, 40.7649, 40.7384, 40.7639, 40.6218, 40.7114, 40.7582, 40.7061, 40.7496, 40.7347, 40.7703, 40.7344, 40.7705, 40.7645, 40.8232, 40.7407, 40.7237, 40.7515, 40.7564, 40.7292, 40.7412, 40.7808, 40.6744, 40.8082, 40.6896, 40.7811, 40.7488, 40.7076, 40.774, 40.7207, 40.774, 40.7677, 40.7686, 40.7257, 40.7693, 40.7203, 40.721, 40.7444, 40.7372, 40.7196, 40.6422, 40.6949, 40.7799, 40.7913, 40.7692, 40.7448, 40.7158, 40.7165, 40.6429, 40.7275, 40.669, 40.8229, 40.7702, 40.7741, 40.6776, 40.7472, 40.6887, 40.7116, 40.774, 40.6447, 40.733, 40.7238, 40.7726, 40.7269, 40.6869, 40.8059, 40.6712, 40.7533, 40.7851, 40.7463, 40.6602, 40.7226, 40.6953, 40.7147, 40.6951, 40.6447, 40.7629, 40.7435, 40.7809, 40.7328, 40.7317, 40.6932, 40.6483, 40.6925, 40.6484, 40.7194, 40.712, 40.6718, 40.76, 40.6896, 40.7301, 40.774, 40.7421, 40.7214, 40.7741, 40.7684, 40.7653, 40.7073, 40.7605, 40.7732, 40.7657, 40.7657, 40.7351, 40.7255, 40.7011, 40.6793, 40.6977, 40.7168, 40.7267, 40.7141, 40.7676, 40.754, 40.7509, 40.6958, 40.756, 40.7121, 40.6483, 40.8065, 40.7514, 40.7201, 40.841, 40.7386, 40.716, 40.7123, 40.6458, 40.7237, 40.7741, 40.7125, 40.7318, 40.7005, 40.7272, 40.7164, 40.7362, 40.7438, 40.7591, 40.6997, 40.6448, 40.7044, 40.6447, 40.6463, 40.7092, 40.7733, 40.7515, 40.723, 40.7136, 40.6858, 40.7562, 40.7169, 40.7685, 40.7759, 40.766, 40.7118, 40.7631, 40.7609, 40.7635, 40.6435, 40.7503, 40.7893, 40.7164, 40.7391, 40.7254, 40.6727, 40.6949, 40.7553, 40.7545, 40.7498, 40.7487, 40.7159, 40.7649, 40.675, 40.7801, 40.7025, 40.7608, 40.7559, 40.7461, 40.7452, 40.7219, 40.7193, 40.7874, 40.7567, 40.7251, 40.7863, 40.7848, 40.6786, 40.7613, 40.7485, 40.7653, 40.7172, 40.7502, 40.7802, 40.7463, 40.7381, 40.751, 40.7977, 40.741, 40.7172, 40.7639, 40.7474, 40.7868, 40.7474, 40.75, 40.7515, 40.7378, 40.7209, 40.7733, 40.7705, 40.7052, 40.7559, 40.8316, 40.7569, 40.7495, 40.7251, 40.7365, 40.7577, 40.6448, 40.6881, 40.707, 40.7166, 40.68, 40.7035, 40.7707, 40.718, 40.713, 40.7687, 40.692, 40.7375, 40.6897, 40.749, 40.8302, 40.7293, 40.7228, 40.8273, 40.7498, 40.7745, 40.7048, 40.7048, 40.6903, 40.753, 40.8255, 40.8475, 40.7469, 40.759, 41.0573, 40.7499, 40.7176, 40.7677, 40.7872, 40.7676, 40.7507, 40.688, 40.7848, 40.5958, 40.7324, 40.6179, 40.7752, 40.7416, 40.7697, 40.7234, 40.774, 40.7741, 40.7527, 40.715, 40.7793, 40.7545, 40.6656, 40.762, 40.6898, 40.7409, 40.7624, 40.7685, 40.7664, 40.769, 40.7052, 40.7158, 40.7353, 40.7637, 40.8284, 40.7743, 40.7676, 40.7352, 40.6997, 40.7447, 40.776, 40.7487, 40.7418, 40.8108, 40.6641, 40.6955, 40.5985, 40.76300000000001, 40.8735, 40.7043, 40.7446, 40.7398, 40.7681, 40.7544, 40.6926, 40.7949, 40.7363, 40.7155, 40.7423, 40.7464, 40.7629, 40.7366, 40.7417, 40.6852, 40.7521, 40.7731, 40.7684, 40.7315, 40.7424, 40.7537, 40.6919, 40.7289, 40.7707, 40.703, 40.745, 40.7442, 40.7909, 40.7702, 40.6917, 40.6457, 40.7353, 40.716, 40.6448, 40.7652, 40.7716, 40.6897, 40.6417, 40.7221, 40.77, 40.6442, 40.7685, 40.7188, 40.7235, 40.7336, 40.7849, 40.7905, 40.7074, 40.7214, 40.6795, 40.7253, 40.7555, 40.7511, 40.7558, 40.7558, 40.7701, 40.7041, 40.7581, 40.8216, 40.7448, 40.7459, 40.7489, 40.7532, 40.7419, 40.7545, 40.7165, 40.7165, 40.7501, 40.6948, 40.771, 40.6913, 40.7076, 40.774, 40.6895, 40.7325, 40.6951, 40.7704, 40.7447, 40.7377, 40.7528, 40.7299, 40.7017, 40.7115, 40.7663, 40.7616, 40.75, 40.6416, 40.7216, 40.7479, 40.6419, 40.7529, 40.7509, 40.7704, 40.77, 40.6784, 40.759, 40.7451, 40.6948, 40.7045, 40.6719, 40.7333, 40.7162, 40.7578, 40.6415, 40.7165, 40.6949, 40.7217, 40.7666, 40.7221, 40.7734, 40.746, 40.7709, 40.7142, 40.7799, 40.7707, 40.7431, 40.7395, 40.836, 40.7136, 40.6696, 40.774, 40.7592, 40.7707, 40.7459, 40.7664, 40.7588, 40.752, 40.7028, 40.743, 40.743, 40.7748, 40.7181, 40.7477, 40.7075, 40.7527, 40.7438, 40.6763, 40.7595, 40.7201, 40.7019, 40.8145, 40.762, 40.7832, 40.7043, 40.7546, 40.7817, 40.742, 40.7208, 40.7553, 40.6955, 40.755, 40.7447, 40.7741, 40.7728, 40.7333, 40.7417, 40.9441, 40.7147, 40.6834, 40.7626, 40.7137, 40.7494, 40.7758, 40.7813, 40.7613, 40.7745, 40.7745, 40.7394, 40.7158, 40.718, 40.8718, 40.7609, 40.7453, 40.7741, 40.7738, 40.7643, 40.7696, 40.7741, 40.6866, 40.7219, 40.7748, 40.7479, 40.6419, 40.6649, 40.7186, 40.8202, 40.6842, 40.7727, 40.7752, 40.698, 40.68, 40.7257, 40.6915, 40.6758, 40.7053, 40.7359, 40.6734, 40.774, 40.7583, 40.7332, 40.7266, 40.6999, 40.7457, 40.6885, 40.7497, 40.6893, 40.6909, 40.7187, 40.7741, 40.7391, 40.7532, 40.6398, 40.7404, 40.6746, 40.6448, 40.7621, 40.6603, 40.6746, 40.7708, 40.7431, 40.695, 40.7169, 40.725, 40.7062, 40.7773, 40.6097, 40.8052, 40.6861, 40.6874, 40.716, 40.7307, 40.752, 40.7307, 40.6423, 40.7521, 40.7415, 40.7587, 40.7724, 40.7464, 40.7225, 40.7509, 40.6847, 40.7655, 40.7279, 40.7779, 40.6846, 40.7446, 40.8053, 40.7741, 40.7741, 40.7705, 40.7628, 40.7326, 40.7732, 40.7446, 40.6406, 40.7683, 40.8041, 40.7746, 40.7145, 40.7055, 40.7236, 40.6447, 40.7211, 40.6889, 40.688, 40.743, 40.6448, 40.6621, 40.7743, 40.5775, 40.726, 40.7105, 40.7408, 40.6448, 40.7848, 40.7352, 40.76300000000001, 40.7334, 40.745, 40.7151, 40.7071, 40.6752, 40.7684, 40.7412, 40.7091, 40.7673, 40.7268, 40.7114, 40.7421, 40.774, 40.6871, 40.7264, 40.6939, 40.7078, 40.7055, 40.7849, 40.706, 40.7716, 40.7516, 40.7438, 40.7219, 40.7179, 40.7393, 40.7185, 40.7463, 40.7232, 40.6859, 40.757, 40.7096, 40.7308, 40.7525, 40.6484, 40.6462, 40.7738, 40.7308, 40.6879, 40.774, 40.7505, 40.7222, 40.7412, 40.7091, 40.6954, 40.7206, 40.7723, 40.7157, 40.6447, 40.8713, 40.7419, 40.724, 40.7473, 40.695, 40.7665, 40.7519, 40.7072, 40.7455, 40.7195, 40.7441, 40.7513, 40.6952, 40.7514, 40.7754, 40.7224, 40.6909, 40.7469, 40.7691, 40.7801, 40.6997, 40.688, 40.7513, 40.771, 40.7516, 40.7703, 40.7261, 40.7685, 40.6484, 40.768, 40.796, 40.6886, 40.7515, 40.724, 40.8089, 40.7598, 40.7563, 40.7514, 40.6447, 40.7411, 40.7161, 40.7187, 40.72, 40.7091, 40.743, 40.8049, 40.7541, 40.7518, 40.7402, 40.75, 40.7738, 40.7681, 40.7459, 40.9786, 40.8062, 40.7511, 40.7216, 40.7892, 40.7368, 40.7645, 40.7741, 40.761, 40.7779, 40.7563, 40.7611, 40.7518, 40.7739, 40.7747, 40.7333, 40.7741, 40.8224, 40.7366, 40.7437, 40.7186, 40.6416, 40.7732, 40.7686, 40.7233, 40.7523, 40.7652, 40.7298, 40.6834, 40.7559, 40.7354, 40.7187, 40.6757, 40.7498, 40.6755, 40.7685, 40.6709, 40.7638, 40.7354, 40.7733, 40.725, 40.7627, 40.7566, 40.7498, 40.69, 40.7516, 40.7346, 40.77, 40.7697, 40.775, 40.7164, 40.7589, 40.6874, 40.7437, 40.7697, 40.7092, 40.7677, 40.718, 40.7452, 40.7348, 40.7211, 40.7462, 40.8673, 40.7739, 40.7715, 40.774, 40.7342, 40.7558, 40.6849, 40.773, 40.7254, 40.6719, 40.7198, 40.7215, 40.7543, 40.7223, 40.809, 40.7705, 40.7706, 40.7125, 40.7526, 40.6912, 40.6378, 40.7176, 40.6734, 40.7634, 40.7503, 40.7681, 40.7451, 40.6865, 40.7996, 40.7707, 40.6417, 40.8293, 40.747, 40.6298, 40.6418, 40.7741, 40.7521, 40.6448, 40.7618, 40.7703, 40.7135, 40.7175, 40.7326, 40.7685, 40.7623, 40.7786, 40.7612, 40.7403, 40.6461, 40.7741, 40.7519, 40.761, 40.7297, 40.7545, 40.7188, 40.7489, 40.7282, 40.6764, 40.719, 40.7462, 40.774, 40.737, 40.744, 40.7283, 40.7247, 40.7199, 40.7657, 40.7334, 40.7525, 40.7853, 40.7225, 40.7741, 40.7227, 40.7896, 40.6418, 40.7213, 40.6871, 40.7523, 40.719, 40.6483, 40.715, 40.7094, 40.7159, 40.7522, 40.7124, 40.7494, 40.774, 40.7813, 40.7824, 40.81, 40.7438, 40.7067, 40.6417, 40.7105, 40.6949, 40.7363, 40.6465, 40.6485, 40.6736, 40.7543, 40.6586, 40.8007, 40.7475, 40.7218, 40.7691, 40.6637, 40.8054, 40.7195, 40.695, 40.7491, 40.7138, 40.6447, 40.708, 40.6872, 40.7333, 40.6822, 40.8331, 40.7727, 40.599, 40.6951, 40.7332, 40.7054, 40.7182, 40.7619, 40.7341, 40.7519, 40.7232, 40.7248, 40.75, 40.7122, 40.7072, 40.7279, 40.774, 40.7488, 40.6261, 40.7554, 40.7741, 40.7412, 40.7739, 40.7232, 40.7381, 40.7525, 40.7739, 40.6912, 40.6459, 40.6871, 40.7513, 40.7634, 40.7217, 40.7594, 40.7275, 41.0686, 40.6878, 40.7388, 40.7812, 40.7658, 40.7323, 40.7244, 40.7628, 40.7177, 40.7272, 40.7631, 40.774, 40.6397, 40.695, 40.7283, 40.7544, 40.7636, 40.741, 40.7907, 40.7705, 40.7705, 40.7619, 40.8231, 40.6894, 40.7694, 40.7703, 40.7431, 40.7716, 40.743, 40.7767, 40.7783, 40.7082, 40.7367, 40.7608, 40.6466, 40.9246, 40.9246, 40.9246, 40.692, 40.7483, 40.7426, 40.8098, 40.7673, 40.7353, 40.8054, 40.7213, 40.7492, 40.7456, 40.7611, 40.7741, 40.6722, 40.5548, 40.8282, 40.7063, 40.7403, 40.7618, 40.7518, 40.6418, 40.6793, 40.7397, 40.6813, 40.7522, 40.7286, 40.736, 40.8627, 40.6448, 40.8161, 40.7335, 40.745, 40.757, 40.7421, 40.7604, 40.7788, 40.7699, 40.6229, 40.7112, 40.7144, 40.6952, 40.7723, 40.7274, 40.767, 40.7583, 40.7583, 40.7704, 40.7207, 40.7429, 40.8012, 40.7808, 40.7526, 40.7235, 40.7329, 40.7989, 40.7303, 40.7157, 40.745, 40.695, 40.7278, 40.6427, 40.6427, 40.7595, 40.6867, 40.7438, 40.7202, 40.7667, 40.7107, 40.7061, 40.7566, 40.7516, 40.7604, 40.6922, 40.7395, 40.7611, 40.6738, 40.7834, 40.777, 40.7515, 40.716, 40.7704, 40.8046, 40.7541, 40.8182, 40.7538, 40.686, 40.7443, 40.7237, 40.7274, 40.729, 40.7741, 40.6462, 40.6671, 40.8184, 40.6437, 40.7191, 40.774, 40.7756, 40.7521, 40.7707, 40.7514, 40.751, 40.6789, 40.6425, 40.7059, 40.7439, 40.7174, 40.6736, 40.756, 40.7103, 40.7064, 40.7226, 40.7456, 40.7698, 40.7473, 40.7188, 40.7491, 40.6896, 40.771, 40.7182, 40.7584, 40.8016, 40.705, 40.727, 40.7774, 40.7741, 40.7301, 40.7739, 40.7737, 40.7507, 40.7619, 40.6837, 40.6985, 40.7199, 40.7189, 40.7745, 40.7489, 40.7274, 40.756, 40.7482, 40.7566, 40.7276, 40.6952, 40.766, 40.8043, 40.6589, 40.7446, 40.7571, 40.7309, 40.7561, 40.8139, 40.746, 40.7437, 40.7363, 40.7456, 40.7367, 40.7438, 40.7036, 40.7332, 40.6845, 40.803, 40.74, 40.6079, 40.7197], \"legendgroup\": \"\", \"lon\": [-73.9977, -73.967, -73.99600000000002, -73.9686, -73.9768, -73.9769, -73.9771, -73.7264, -74.03, -73.9921, -73.9849, -73.9526, -73.9806, -73.9888, -73.9751, -73.9885, -73.9694, -73.9522, -73.9979, -73.9967, -73.9672, -73.9704, -73.9813, -73.9775, -73.9742, -73.9627, -73.9774, -73.959, -73.9815, -73.9918, -73.9855, -73.9822, -74.0056, -73.7822, -73.9839, -73.9803, -73.9525, -73.991, -74.0063, -73.9653, -73.7767, -73.9972, -73.8731, -74.008, -73.8265, -74.0035, -73.9143, -74.0263, -73.8468, -73.973, -74.0078, -73.8621, -73.9848, -73.9622, -73.9869, -73.9914, -73.9663, -73.9916, -74.0479, -73.9835, -73.9452, -74.0078, -73.9553, -73.9789, -73.8727, -73.9889, -73.9607, -73.9888, -73.8624, -74.0042, -73.991, -74.1771, -73.9939, -73.9787, -73.8725, -73.9838, -73.9929, -73.9927, -73.9911, -73.9783, -73.95100000000002, -73.8438, -73.98899999999998, -73.9962, -73.9872, -73.9745, -73.2211, -73.9976, -73.9876, -74.0043, -73.8486, -73.9532, -73.9797, -73.9747, -73.9928, -73.9806, -73.9917, -73.9911, -74.0038, -73.9448, -73.9523, -73.9773, -73.9729, -73.9918, -74.0146, -73.9743, -74.17699999999998, -73.9789, -73.9916, -73.9037, -73.9936, -74.0381, -74.0392, -73.9726, -73.9868, -73.9799, -73.999, -74.0017, -73.9817, -74.0617, -73.9907, -73.9907, -73.9851, -73.8626, -73.9771, -74.0098, -73.9205, -73.9916, -73.8656, -73.8625, -73.9937, -74.01, -73.9606, -73.9102, -73.8717, -73.9568, -73.9896, -73.9751, -73.9325, -74.0243, -74.0109, -73.9866, -74.002, -74.002, -73.7889, -73.7876, -73.9822, -73.9521, -74.0026, -73.9918, -74.0308, -73.98899999999998, -73.8644, -73.9833, -73.9896, -73.9796, -73.9821, -74.0084, -73.7827, -73.9367, -74.01100000000002, -73.9609, -73.992, -74.0012, -73.976, -73.9866, -73.9756, -74.0146, -73.953, -73.9712, -73.9067, -73.9878, -73.9989, -73.8655, -74.0015, -73.8654, -73.9808, -73.9391, -73.9797, -74.0052, -73.9733, -73.9717, -73.9957, -74.002, -73.9813, -73.866, -73.9639, -73.9923, -73.9762, -73.9924, -74.0075, -73.8721, -73.9564, -73.8723, -73.9665, -73.8626, -74.0107, -73.8763, -73.99, -74.0018, -73.9921, -73.988, -73.9954, -73.7881, -74.1772, -73.9445, -73.9776, -73.8673, -73.9951, -74.012, -73.9614, -73.7892, -73.9869, -73.9831, -73.95, -73.8648, -73.8725, -73.9727, -73.9811, -73.9427, -73.9535, -73.8726, -73.782, -73.9904, -73.993, -73.9666, -73.9587, -73.9847, -73.9671, -73.945, -73.8903, -73.9792, -73.9428, -73.9912, -73.9974, -74.1781, -74.0159, -74.1783, -73.782, -73.976, -73.9798, -73.9837, -73.9961, -74.0061, -73.9997, -73.7829, -73.9946, -73.7835, -73.9628, -73.9513, -74.0094, -73.9848, -73.9917, -73.9866, -73.8727, -73.9948, -73.9929, -73.8723, -73.9815, -73.9576, -74.005, -73.9791, -73.8856, -73.9766, -73.9766, -74.0049, -74.0039, -73.9236, -73.9262, -73.8666, -74.0124, -73.9778, -73.9415, -73.9867, -73.97399999999998, -74.0059, -74.1786, -73.9729, -74.0062, -73.7825, -73.9639, -73.991, -74.0124, -73.9448, -73.992, -74.0045, -73.9661, -73.7766, -74.0111, -73.8724, -74.0388, -73.9895, -73.9398, -74.0019, -74.0109, -74.0035, -73.9883, -73.9702, -73.9296, -73.782, -74.0109, -73.7822, -73.7769, -74.0071, -74.0176, -73.9783, -73.9589, -73.9563, -73.9904, -73.9726, -74.0123, -73.8874, -73.9764, -73.9616, -73.958, -73.9625, -73.9944, -73.9809, -73.7898, -73.9946, -73.9756, -73.9659, -74.0082, -73.9497, -73.9586, -74.1779, -74.0024, -73.9928, -73.9917, -73.9884, -73.9402, -73.9613, -73.9893, -73.9501, -73.9873, -73.9965, -73.9908, -73.9947, -73.9716, -74.0028, -73.9602, -73.9789, -73.9741, -73.9922, -73.9697, -73.9485, -73.9498, -73.9733, -74.0057, -73.9642, -74.0019, -73.993, -73.9551, -73.8913, -73.9999, -73.9858, -73.9609, -73.9942, -73.9629, -73.9773, -73.9151, -73.7348, -73.9151, -74.0059, -73.9941, -73.9928, -74.0017, -73.9818, -73.9823, -74.0077, -73.9701, -73.9493, -73.9744, -73.9922, -74.0031, -73.9525, -73.9811, -73.7819, -73.9758, -74.0173, -73.962, -73.9588, -73.9908, -73.8659, -73.9971, -73.9664, -73.8621, -74.0007, -74.0005, -73.9815, -73.9922, -73.9211, -73.9892, -73.9924, -73.9024, -73.9924, -73.9656, -74.0165, -74.0165, -73.919, -73.993, -73.9437, -73.9314, -73.9789, -73.9817, -73.803, -73.9931, -73.9579, -73.9563, -73.9813, -73.8813, -73.9919, -73.9769, -73.9828, -73.9508, -73.8627, -74.0205, -73.9906, -73.9915, -73.8667, -73.9762, -73.8722, -73.8724, -73.9814, -74.0164, -73.9069, -73.9729, -73.9789, -73.9184, -73.9364, -74.0076, -73.9854, -73.8623, -73.8864, -73.8902, -74.0078, -73.9933, -73.9746, -73.98899999999998, -73.9191, -73.9818, -73.9549, -73.9748, -73.9296, -73.8437, -73.9574, -73.993, -73.9934, -73.9388, -73.9448, -73.942, -73.9975, -73.904, -73.8782, -74.0094, -73.8952, -73.9815, -73.9619, -73.8463, -73.9237, -73.9662, -73.9865, -74.0048, -73.9826, -73.9855, -73.9968, -74.0339, -74.0049, -73.9773, -73.9857, -73.9462, -73.8763, -73.9888, -73.9826, -73.9805, -73.9919, -73.9983, -73.8661, -73.9217, -73.9015, -74.0297, -73.9687, -73.9809, -73.9843, -73.7767, -74.0013, -74.0087, -73.782, -73.9767, -73.9889, -73.9926, -73.7888, -73.9872, -73.8802, -73.9082, -73.9585, -74.0104, -73.9507, -73.987, -73.9792, -73.9754, -74.0118, -74.0046, -73.9331, -73.9924, -73.9809, -73.9956, -73.9709, -73.9709, -73.8647, -73.9344, -73.9759, -73.9483, -73.9851, -73.97800000000002, -73.9872, -73.9785, -73.9898, -73.8456, -74.0166, -73.991, -73.9708, -74.178, -73.9598, -73.9924, -73.9492, -73.8717, -73.9925, -74.0098, -74.1787, -73.8651, -73.9808, -73.9975, -73.993, -74.0009, -73.9896, -73.9455, -73.9663, -73.96600000000002, -73.984, -73.7882, -73.9806, -74.0046, -73.7891, -73.9748, -73.9806, -73.8654, -73.8645, -73.9897, -73.98100000000002, -73.9999, -74.1777, -73.9238, -74.0105, -73.9594, -73.9566, -73.9903, -73.7888, -74.0078, -74.1772, -73.9956, -73.9788, -73.9854, -73.9817, -73.9516, -73.8658, -73.9561, -73.9616, -73.8656, -73.9724, -73.9996, -73.9382, -73.9342, -73.9802, -73.8727, -73.9817, -73.8657, -73.9553, -73.9783, -73.9774, -73.9933, -73.9333, -73.9724, -73.9724, -73.9591, -74.0046, -73.9938, -74.0134, -73.9933, -73.8559, -73.9579, -73.9762, -74.0098, -73.9847, -73.8995, -74.0011, -73.9785, -74.0125, -74.0071, -73.9523, -73.9833, -74.0042, -73.9931, -74.1782, -73.8261, -73.8436, -73.8725, -73.9655, -74.0053, -73.99, -73.833, -73.9581, -73.9562, -73.9685, -73.9796, -73.9753, -73.9527, -73.9599, -73.9974, -73.9817, -73.9817, -73.9824, -73.9397, -73.9991, -73.5093, -73.9593, -73.9522, -73.8726, -73.8753, -73.97399999999998, -73.9849, -73.8724, -73.921, -73.9973, -73.991, -73.9806, -73.7892, -73.9551, -74.008, -73.2041, -73.9994, -73.9458, -73.8087, -73.9944, -73.9895, -74.0055, -74.1771, -73.9715, -74.0103, -74.0297, -73.953, -73.873, -73.9891, -73.9531, -73.9923, -73.9294, -74.0016, -73.9709, -73.9774, -73.9333, -73.9595, -73.839, -73.8727, -73.9778, -73.9807, -73.96300000000002, -74.0079, -73.9755, -73.7821, -73.982, -73.9887, -73.9757, -73.9642, -73.9932, -74.1781, -73.9978, -73.9985, -74.0083, -73.9753, -73.922, -73.9395, -73.8253, -73.9571, -74.012, -73.9544, -73.9928, -73.9759, -73.7887, -74.0046, -73.9832, -73.9771, -73.9486, -73.982, -73.9595, -73.9736, -73.9183, -73.9617, -74.0001, -73.9616, -73.9853, -73.9327, -73.9567, -73.8724, -73.8724, -73.9628, -73.9688, -73.9968, -73.9003, -74.3168, -73.9656, -73.9514, -73.9646, -73.9639, -73.997, -73.9328, -73.9832, -73.7819, -73.8473, -73.98899999999998, -74.1831, -73.9892, -73.7821, -73.9546, -73.8731, -73.9616, -74.0437, -73.9846, -74.008, -73.7821, -73.9562, -73.9943, -73.9789, -73.987, -73.9862, -73.9968, -74.0166, -74.0177, -73.8626, -73.9889, -73.956, -73.9623, -73.9854, -74.0156, -73.9966, -73.8724, -73.9626, -73.99, -73.9843, -74.007, -74.0069, -73.9734, -74.0071, -73.9648, -74.0034, -74.0063, -73.845, -73.9576, -74.0413, -73.9488, -74.0283, -74.0, -73.9634, -73.9832, -74.0117, -73.9955, -73.9777, -73.7827, -73.7769, -73.8717, -73.9264, -73.9232, -73.8728, -73.9945, -74.0039, -73.9928, -74.0132, -74.1777, -73.9895, -73.9903, -73.941, -73.782, -73.9046, -73.9852, -73.99, -73.9858, -74.1772, -73.9287, -73.9937, -73.954, -73.9797, -73.9904, -73.9855, -73.9973, -74.1786, -73.9939, -73.9455, -73.95, -74.1874, -73.9714, -73.8866, -73.9474, -73.9295, -74.1829, -73.9939, -73.8658, -73.9938, -73.8649, -73.9841, -73.8869, -73.783, -73.9578, -73.9331, -73.9889, -73.9936, -73.9928, -73.9542, -73.9007, -73.968, -73.9877, -73.7821, -73.9808, -74.0511, -74.01, -74.0075, -74.0152, -73.9721, -73.9389, -73.8482, -73.9936, -73.8303, -73.9931, -73.9499, -73.8619, -74.0086, -73.793, -73.9379, -73.9891, -73.9582, -73.9785, -73.9894, -73.9779, -73.8725, -73.9709, -73.9819, -73.9701, -73.9751, -73.9935, -73.9545, -73.9842, -73.9796, -73.8723, -73.9479, -73.9974, -73.9841, -74.0044, -73.7885, -73.9462, -73.8867, -73.9515, -73.9935, -73.9873, -73.9508, -74.0049, -73.982, -73.9746, -74.0048, -74.017, -73.9919, -74.0151, -73.8762, -73.9723, -73.9383, -73.9747, -73.9667, -73.9983, -73.9788, -73.9978, -74.005, -73.9922, -73.9924, -73.9989, -73.8648, -73.9844, -73.9477, -73.9886, -73.9897, -73.9979, -73.9832, -73.98100000000002, -74.0023, -73.9914, -73.958, -73.842, -74.0095, -73.9992, -73.994, -73.906, -73.9463, -73.9809, -73.8716, -74.0036, -73.9668, -73.9493, -73.98, -73.987, -74.0091, -74.0003, -73.9883, -73.8459, -73.9842, -73.7557, -73.8653, -73.8655, -73.9441, -74.0376, -74.1773, -74.0351, -73.9432, -73.9796, -73.97, -73.9805, -73.9823, -73.9772, -73.994, -73.94, -73.8656, -73.7885, -73.941, -73.9846, -74.0382, -73.7889, -73.8726, -73.9788, -73.782, -73.8328, -73.9559, -73.9347, -73.9518, -73.997, -73.8626, -73.9703, -73.5421, -73.9782, -73.9948, -73.7769, -73.8727, -73.9758, -73.9995, -73.9522, -73.9674, -73.9926, -73.9793, -73.8795, -73.9584, -74.0, -73.9789, -73.8733, -74.0032, -73.9746, -73.982, -74.0019, -73.9789, -73.9921, -73.9815, -73.9949, -73.9554, -74.0014, -73.8724, -73.993, -73.9805, -73.789, -73.9564, -73.9447, -73.9775, -73.9547, -73.7825, -73.997, -74.0162, -73.9448, -74.0044, -74.0091, -73.9754, -73.8722, -73.9518, -73.9806, -73.9586, -73.9926, -74.0124, -73.7887, -74.0068, -74.178, -74.0077, -73.7771, -73.7839, -73.9706, -73.9656, -73.807, -73.9564, -73.977, -73.9582, -73.9814, -73.94800000000002, -73.9393, -73.956, -74.1781, -73.9922, -74.0089, -73.7824, -74.0097, -73.9895, -74.0047, -73.9666, -73.9445, -73.9457, -73.969, -74.1783, -74.006, -74.0075, -73.9507, -73.971, -74.0043, -73.9864, -73.9915, -73.9947, -73.9876, -73.9638, -73.9212, -73.5437, -73.8724, -73.9802, -73.9705, -74.0316, -73.8723, -74.0053, -73.8714, -74.0027, -73.847, -73.9747, -73.8722, -74.1774, -73.7766, -73.9764, -73.9938, -73.9792, -73.9582, -73.9957, -73.9921, -73.7038, -74.1815, -74.0002, -73.9814, -73.9827, -74.002, -73.9797, -73.9873, -73.9896, -73.9589, -73.9853, -73.8716, -74.0071, -74.1782, -73.9848, -73.8463, -73.9911, -73.7874, -73.9781, -73.8679, -73.8679, -73.9663, -73.9522, -73.9915, -73.8869, -73.865, -73.9934, -73.9561, -73.9954, -73.9628, -73.9848, -74.0065, -73.9875, -73.9871, -73.9821, -73.7447, -73.7447, -73.7447, -73.9368, -73.9764, -74.0043, -73.9205, -73.9823, -73.9747, -73.9391, -73.9563, -73.9922, -73.9932, -73.8023, -73.8725, -74.0109, -73.9275, -73.9486, -73.9281, -73.9822, -73.9819, -73.9766, -73.7886, -74.0106, -74.008, -73.9673, -73.9916, -73.9822, -73.9977, -73.925, -73.7818, -73.9354, -73.9573, -73.9843, -73.9825, -74.0038, -73.9572, -73.9758, -73.8641, -74.0283, -74.0055, -73.8317, -74.1783, -73.7339, -73.9922, -73.917, -73.9915, -73.9915, -73.8655, -73.9802, -73.9789, -73.9601, -73.9488, -73.9754, -73.9947, -73.9744, -73.9404, -74.0075, -73.9601, -73.9888, -74.1781, -74.0047, -73.7889, -73.7889, -73.9874, -73.9844, -73.8559, -74.0118, -73.8811, -73.9685, -73.9222, -73.9798, -74.0078, -73.9948, -73.9113, -73.9953, -73.9092, -73.9243, -73.9843, -73.7014, -74.0032, -73.962, -73.8752, -73.938, -73.9766, -73.9607, -73.9885, -73.8241, -73.998, -74.0112, -73.9848, -74.0422, -73.8727, -73.7903, -73.9499, -73.9393, -73.79, -73.9631, -73.8724, -73.926, -73.9856, -73.8657, -74.0079, -73.9748, -73.9535, -73.9742, -74.0095, -73.988, -74.0133, -73.9825, -73.973, -73.95, -73.9277, -74.0098, -74.0085, -73.9546, -73.9722, -73.9577, -73.9882, -73.9692, -73.9576, -73.9569, -73.9887, -73.9447, -73.9334, -74.0072, -73.9808, -73.8723, -73.9922, -73.8725, -73.9876, -73.9946, -73.9752, -73.9887, -73.9317, -74.0003, -74.0024, -73.984, -73.9759, -74.0005, -73.9964, -74.0039, -73.9975, -73.9952, -74.1786, -73.8863, -73.9376, -73.9535, -74.0061, -73.9825, -74.0044, -73.9904, -73.9369, -73.7814, -73.9537, -73.9249, -73.9945, -73.9971, -74.0063, -73.9906, -73.9987, -73.9268, -73.9385, -74.0059, -73.982, -74.0102], \"marker\": {\"color\": [0, 0, 0, 0, 0, 0, 0, -1, 0, 0, 0, 0, 0, 0, 0, 0, 0, 0, 0, 0, 0, 0, 0, 0, 0, 0, 0, 0, 0, 0, 0, 0, 0, -1, 0, 0, 0, 0, 0, 0, -1, 0, 1, 0, -1, 0, -1, 0, 1, 0, 0, 1, 0, 0, 0, 0, 0, 0, 0, 0, 0, 0, 0, 0, 1, 0, 0, 0, 1, 0, 0, -1, 0, 0, 1, 0, 0, 0, 0, 0, 0, -1, 0, -1, 0, 0, -1, 0, 0, 0, -1, 0, 0, 0, 0, 0, 0, 0, 0, 0, 0, 0, 0, 0, 0, 0, -1, 0, 0, 1, 0, 0, 0, 0, 0, 0, 0, 0, 0, 0, 0, 0, 0, 1, 0, 0, 0, 0, 1, 1, 0, 0, 0, -1, 1, 0, 0, 0, 0, -1, 0, 0, 0, 0, -1, -1, 0, -1, 0, 0, 0, 0, 1, -1, 0, 0, 0, 0, -1, 0, 0, 0, 0, 0, 0, 0, 0, -1, 0, 0, 0, 0, 0, 1, 0, 1, 0, -1, 0, 0, 0, 0, 0, 0, 0, -1, 0, 0, 0, 0, 0, 1, 0, 1, 0, 1, 0, 1, 0, 0, 0, 0, 0, -1, -1, 0, 0, 1, 0, 0, 0, -1, 0, 0, -1, 1, 1, 0, 0, 0, 0, 1, -1, 0, 0, 0, 0, 0, 0, 0, 1, 0, 0, -1, 0, -1, 0, -1, -1, 0, 0, 0, 0, 0, 0, -1, 0, -1, 0, 0, 0, 0, 0, 0, 1, 0, 0, 1, 0, 0, 0, 0, 1, 0, 0, 0, 0, 0, 0, -1, 0, 0, 0, 0, 0, 0, -1, 0, 0, -1, 0, 0, 0, -1, 0, 0, 0, -1, 0, 1, 0, 0, 0, 0, 0, 0, 0, 0, 0, -1, 0, -1, -1, 0, 0, 0, 0, 0, 0, 0, 0, 1, 0, 0, 0, 0, 0, 0, -1, 0, 0, 0, 0, 0, 0, -1, 0, 0, 0, 0, 0, 0, 0, 0, 0, 0, 0, 0, 0, 0, 0, 0, 0, 0, 0, 0, 0, 0, 0, 0, 0, 0, 0, 1, 0, 0, 0, 0, 0, 0, 0, -1, 0, 0, 0, 0, 0, 0, 0, 0, 0, -1, 0, 0, 0, 0, 0, -1, 0, 0, 0, 0, 0, 1, 0, 0, 1, 0, 0, 0, 0, -1, 0, 0, -1, 0, 0, 0, 0, 0, 0, -1, -1, 0, 0, -1, 0, 0, 0, 0, 1, 0, 0, 0, -1, -1, -1, 0, 0, 1, 0, 1, 1, 0, 0, 0, 0, 0, 0, 0, 0, 0, 1, 1, 1, 0, 0, 0, 0, -1, 0, 0, 0, 0, -1, 0, 0, 0, 0, 0, 0, -1, 0, -1, 0, 1, 0, 0, 1, 0, 0, 0, 0, 0, 0, 0, 0, 0, 0, 0, 0, 1, 0, 0, 0, 0, 0, 1, 0, 1, 0, 0, 0, 0, -1, 0, 0, -1, 0, 0, 0, -1, 0, 1, -1, 0, 0, 0, 0, 0, 0, 0, 0, 0, 0, 0, 0, 0, 0, 1, 0, 0, -1, 0, 0, 0, 0, 0, 1, 0, 0, 0, -1, 0, 0, 0, 1, 0, 0, -1, 1, 0, 0, 0, 0, 0, 0, 0, 0, 0, -1, 0, 0, -1, 0, 0, 1, 1, 0, 0, 0, -1, 0, 0, 0, 0, 0, -1, 0, -1, 0, 0, 0, 0, 0, 1, 0, 0, 1, 0, 0, -1, 0, 0, 1, 0, 1, 0, 0, 0, 0, 0, 0, 0, 0, 0, 0, 0, 0, -1, 0, 0, 0, 0, -1, 0, 0, 0, 0, 0, 0, 0, 0, -1, -1, -1, 1, 0, 0, 0, -1, 0, 0, 0, 0, 0, 0, 0, 0, 0, 0, 0, 0, 0, -1, 0, 0, 1, 1, 0, 0, 1, 0, 0, 0, 0, -1, 0, 0, -1, 0, 0, -1, 0, 0, 0, -1, 0, 0, 0, 0, 1, 0, 0, 0, 0, 0, 0, 0, 0, 0, -1, 1, 0, 0, -1, 0, 0, -1, 0, -1, 0, 0, 0, -1, 0, 0, 0, 0, -1, 0, -1, 0, 0, 0, 0, 0, -1, 0, 0, 0, 0, 0, 0, 0, 0, 0, 0, 0, 0, 0, 0, 1, 1, 0, 0, 0, 1, -1, -1, 0, 0, 0, 0, 0, 0, -1, -1, 0, -1, 0, -1, 0, 1, -1, 0, 0, 0, -1, 0, 0, 0, 0, 0, 0, 0, 0, 1, 0, 0, 0, 0, 0, 0, 1, 0, 0, 0, 0, 0, 0, 0, 0, 0, 0, -1, 0, 0, 0, 0, 0, 0, 0, 0, 0, 0, -1, -1, 1, 0, 0, 1, 0, 0, 0, 0, -1, 0, 0, 0, -1, -1, 0, 0, 0, -1, 0, 0, 0, 0, 0, 0, 0, -1, 0, 0, 0, -1, 0, 1, 0, 0, -1, 0, 1, 0, 1, 0, 1, -1, 0, 0, 0, 0, 0, 0, 0, 0, 0, -1, 0, 0, 0, 0, 0, 0, 0, 1, 0, -1, 0, 0, 1, 0, -1, 0, 0, 0, 0, 0, 0, 1, 0, 0, 0, 0, 0, 0, 0, 0, 1, -1, 0, 0, 0, -1, 0, 1, 0, 0, 0, 0, 0, 0, 0, 0, 0, 0, 0, 1, 0, 0, 0, 0, 0, 0, 0, 0, 0, 0, 0, 1, 0, 0, 0, 0, 0, 0, 0, 0, 0, 0, -1, 0, 0, 0, -1, 0, 0, 1, 0, 0, 0, 0, 0, 0, 0, 0, 1, 0, -1, 1, 1, 0, 0, -1, -1, 0, 0, 0, 0, 0, 0, 0, 0, 1, -1, -1, 0, -1, -1, 1, 0, -1, 1, 0, 0, 0, 0, 1, 0, -1, 0, 0, -1, 1, 0, 0, 0, 0, 0, 0, -1, 0, 0, 0, 1, 0, 0, 0, 0, 0, 0, 0, 0, 0, 0, 1, 0, 0, -1, 0, 0, 0, 0, -1, 0, 0, 0, 0, 0, 0, 1, 0, 0, 0, 0, 0, -1, 0, -1, 0, -1, -1, 0, 0, -1, 0, 0, 0, 0, 0, 0, 0, -1, 0, 0, -1, 0, 0, 0, 0, -1, 0, -1, -1, 0, 0, 0, 0, 0, 0, 0, 0, 0, 0, 0, -1, 1, 0, -1, 0, 1, 0, 1, 0, -1, 0, 1, -1, -1, 0, 0, 0, 0, 0, 0, -1, -1, 0, 0, 0, 0, 0, 0, 0, 0, 0, 1, -1, -1, 0, 1, 0, -1, 0, 1, 1, 0, -1, 0, 1, 1, 0, 0, 0, 0, 0, 0, 0, 0, -1, -1, -1, -1, 0, 0, 0, -1, 0, 0, 0, 0, 0, 0, -1, 1, 0, -1, -1, 0, 0, 0, 0, -1, 0, 0, 0, 0, 0, 0, -1, -1, -1, 0, 0, 0, 0, 0, 0, 1, -1, 0, -1, -1, -1, 0, 0, 0, 0, 1, 0, 0, 0, 0, 0, 0, 0, 0, 0, 0, 0, -1, 0, -1, -1, 0, 0, -1, 0, 1, 0, 0, 0, 0, 0, 0, 0, 0, 0, 0, -1, 0, 0, 1, 0, 0, -1, 0, -1, 0, 0, 0, 0, 1, -1, 0, -1, -1, 0, 1, 0, 0, 1, 0, 0, 0, -1, 0, 0, 0, 0, 0, 0, 0, 0, 0, 0, 0, 0, 0, 0, 0, 0, 0, 0, 0, 0, 0, 1, 0, 1, 0, 0, 0, 0, 0, 0, 0, 0, 0, 0, 0, 0, 0, 0, -1, 1, 0, -1, 0, 0, 0, 0, -1, -1, 0, 0, 0, 0, 0, 0, 0, 0, 0, 0, -1, 0], \"coloraxis\": \"coloraxis\"}, \"mode\": \"markers\", \"name\": \"\", \"showlegend\": false, \"subplot\": \"mapbox\", \"type\": \"scattermapbox\"}],\n",
              "                        {\"coloraxis\": {\"colorbar\": {\"title\": {\"text\": \"cluster\"}}, \"colorscale\": [[0.0, \"#0d0887\"], [0.1111111111111111, \"#46039f\"], [0.2222222222222222, \"#7201a8\"], [0.3333333333333333, \"#9c179e\"], [0.4444444444444444, \"#bd3786\"], [0.5555555555555556, \"#d8576b\"], [0.6666666666666666, \"#ed7953\"], [0.7777777777777778, \"#fb9f3a\"], [0.8888888888888888, \"#fdca26\"], [1.0, \"#f0f921\"]]}, \"legend\": {\"tracegroupgap\": 0}, \"mapbox\": {\"center\": {\"lat\": 40.736498637820524, \"lon\": -73.9588739583333}, \"domain\": {\"x\": [0.0, 1.0], \"y\": [0.0, 1.0]}, \"style\": \"carto-positron\", \"zoom\": 10}, \"margin\": {\"t\": 60}, \"template\": {\"data\": {\"bar\": [{\"error_x\": {\"color\": \"#2a3f5f\"}, \"error_y\": {\"color\": \"#2a3f5f\"}, \"marker\": {\"line\": {\"color\": \"#E5ECF6\", \"width\": 0.5}}, \"type\": \"bar\"}], \"barpolar\": [{\"marker\": {\"line\": {\"color\": \"#E5ECF6\", \"width\": 0.5}}, \"type\": \"barpolar\"}], \"carpet\": [{\"aaxis\": {\"endlinecolor\": \"#2a3f5f\", \"gridcolor\": \"white\", \"linecolor\": \"white\", \"minorgridcolor\": \"white\", \"startlinecolor\": \"#2a3f5f\"}, \"baxis\": {\"endlinecolor\": \"#2a3f5f\", \"gridcolor\": \"white\", \"linecolor\": \"white\", \"minorgridcolor\": \"white\", \"startlinecolor\": \"#2a3f5f\"}, \"type\": \"carpet\"}], \"choropleth\": [{\"colorbar\": {\"outlinewidth\": 0, \"ticks\": \"\"}, \"type\": \"choropleth\"}], \"contour\": [{\"colorbar\": {\"outlinewidth\": 0, \"ticks\": \"\"}, \"colorscale\": [[0.0, \"#0d0887\"], [0.1111111111111111, \"#46039f\"], [0.2222222222222222, \"#7201a8\"], [0.3333333333333333, \"#9c179e\"], [0.4444444444444444, \"#bd3786\"], [0.5555555555555556, \"#d8576b\"], [0.6666666666666666, \"#ed7953\"], [0.7777777777777778, \"#fb9f3a\"], [0.8888888888888888, \"#fdca26\"], [1.0, \"#f0f921\"]], \"type\": \"contour\"}], \"contourcarpet\": [{\"colorbar\": {\"outlinewidth\": 0, \"ticks\": \"\"}, \"type\": \"contourcarpet\"}], \"heatmap\": [{\"colorbar\": {\"outlinewidth\": 0, \"ticks\": \"\"}, \"colorscale\": [[0.0, \"#0d0887\"], [0.1111111111111111, \"#46039f\"], [0.2222222222222222, \"#7201a8\"], [0.3333333333333333, \"#9c179e\"], [0.4444444444444444, \"#bd3786\"], [0.5555555555555556, \"#d8576b\"], [0.6666666666666666, \"#ed7953\"], [0.7777777777777778, \"#fb9f3a\"], [0.8888888888888888, \"#fdca26\"], [1.0, \"#f0f921\"]], \"type\": \"heatmap\"}], \"heatmapgl\": [{\"colorbar\": {\"outlinewidth\": 0, \"ticks\": \"\"}, \"colorscale\": [[0.0, \"#0d0887\"], [0.1111111111111111, \"#46039f\"], [0.2222222222222222, \"#7201a8\"], [0.3333333333333333, \"#9c179e\"], [0.4444444444444444, \"#bd3786\"], [0.5555555555555556, \"#d8576b\"], [0.6666666666666666, \"#ed7953\"], [0.7777777777777778, \"#fb9f3a\"], [0.8888888888888888, \"#fdca26\"], [1.0, \"#f0f921\"]], \"type\": \"heatmapgl\"}], \"histogram\": [{\"marker\": {\"colorbar\": {\"outlinewidth\": 0, \"ticks\": \"\"}}, \"type\": \"histogram\"}], \"histogram2d\": [{\"colorbar\": {\"outlinewidth\": 0, \"ticks\": \"\"}, \"colorscale\": [[0.0, \"#0d0887\"], [0.1111111111111111, \"#46039f\"], [0.2222222222222222, \"#7201a8\"], [0.3333333333333333, \"#9c179e\"], [0.4444444444444444, \"#bd3786\"], [0.5555555555555556, \"#d8576b\"], [0.6666666666666666, \"#ed7953\"], [0.7777777777777778, \"#fb9f3a\"], [0.8888888888888888, \"#fdca26\"], [1.0, \"#f0f921\"]], \"type\": \"histogram2d\"}], \"histogram2dcontour\": [{\"colorbar\": {\"outlinewidth\": 0, \"ticks\": \"\"}, \"colorscale\": [[0.0, \"#0d0887\"], [0.1111111111111111, \"#46039f\"], [0.2222222222222222, \"#7201a8\"], [0.3333333333333333, \"#9c179e\"], [0.4444444444444444, \"#bd3786\"], [0.5555555555555556, \"#d8576b\"], [0.6666666666666666, \"#ed7953\"], [0.7777777777777778, \"#fb9f3a\"], [0.8888888888888888, \"#fdca26\"], [1.0, \"#f0f921\"]], \"type\": \"histogram2dcontour\"}], \"mesh3d\": [{\"colorbar\": {\"outlinewidth\": 0, \"ticks\": \"\"}, \"type\": \"mesh3d\"}], \"parcoords\": [{\"line\": {\"colorbar\": {\"outlinewidth\": 0, \"ticks\": \"\"}}, \"type\": \"parcoords\"}], \"pie\": [{\"automargin\": true, \"type\": \"pie\"}], \"scatter\": [{\"marker\": {\"colorbar\": {\"outlinewidth\": 0, \"ticks\": \"\"}}, \"type\": \"scatter\"}], \"scatter3d\": [{\"line\": {\"colorbar\": {\"outlinewidth\": 0, \"ticks\": \"\"}}, \"marker\": {\"colorbar\": {\"outlinewidth\": 0, \"ticks\": \"\"}}, \"type\": \"scatter3d\"}], \"scattercarpet\": [{\"marker\": {\"colorbar\": {\"outlinewidth\": 0, \"ticks\": \"\"}}, \"type\": \"scattercarpet\"}], \"scattergeo\": [{\"marker\": {\"colorbar\": {\"outlinewidth\": 0, \"ticks\": \"\"}}, \"type\": \"scattergeo\"}], \"scattergl\": [{\"marker\": {\"colorbar\": {\"outlinewidth\": 0, \"ticks\": \"\"}}, \"type\": \"scattergl\"}], \"scattermapbox\": [{\"marker\": {\"colorbar\": {\"outlinewidth\": 0, \"ticks\": \"\"}}, \"type\": \"scattermapbox\"}], \"scatterpolar\": [{\"marker\": {\"colorbar\": {\"outlinewidth\": 0, \"ticks\": \"\"}}, \"type\": \"scatterpolar\"}], \"scatterpolargl\": [{\"marker\": {\"colorbar\": {\"outlinewidth\": 0, \"ticks\": \"\"}}, \"type\": \"scatterpolargl\"}], \"scatterternary\": [{\"marker\": {\"colorbar\": {\"outlinewidth\": 0, \"ticks\": \"\"}}, \"type\": \"scatterternary\"}], \"surface\": [{\"colorbar\": {\"outlinewidth\": 0, \"ticks\": \"\"}, \"colorscale\": [[0.0, \"#0d0887\"], [0.1111111111111111, \"#46039f\"], [0.2222222222222222, \"#7201a8\"], [0.3333333333333333, \"#9c179e\"], [0.4444444444444444, \"#bd3786\"], [0.5555555555555556, \"#d8576b\"], [0.6666666666666666, \"#ed7953\"], [0.7777777777777778, \"#fb9f3a\"], [0.8888888888888888, \"#fdca26\"], [1.0, \"#f0f921\"]], \"type\": \"surface\"}], \"table\": [{\"cells\": {\"fill\": {\"color\": \"#EBF0F8\"}, \"line\": {\"color\": \"white\"}}, \"header\": {\"fill\": {\"color\": \"#C8D4E3\"}, \"line\": {\"color\": \"white\"}}, \"type\": \"table\"}]}, \"layout\": {\"annotationdefaults\": {\"arrowcolor\": \"#2a3f5f\", \"arrowhead\": 0, \"arrowwidth\": 1}, \"coloraxis\": {\"colorbar\": {\"outlinewidth\": 0, \"ticks\": \"\"}}, \"colorscale\": {\"diverging\": [[0, \"#8e0152\"], [0.1, \"#c51b7d\"], [0.2, \"#de77ae\"], [0.3, \"#f1b6da\"], [0.4, \"#fde0ef\"], [0.5, \"#f7f7f7\"], [0.6, \"#e6f5d0\"], [0.7, \"#b8e186\"], [0.8, \"#7fbc41\"], [0.9, \"#4d9221\"], [1, \"#276419\"]], \"sequential\": [[0.0, \"#0d0887\"], [0.1111111111111111, \"#46039f\"], [0.2222222222222222, \"#7201a8\"], [0.3333333333333333, \"#9c179e\"], [0.4444444444444444, \"#bd3786\"], [0.5555555555555556, \"#d8576b\"], [0.6666666666666666, \"#ed7953\"], [0.7777777777777778, \"#fb9f3a\"], [0.8888888888888888, \"#fdca26\"], [1.0, \"#f0f921\"]], \"sequentialminus\": [[0.0, \"#0d0887\"], [0.1111111111111111, \"#46039f\"], [0.2222222222222222, \"#7201a8\"], [0.3333333333333333, \"#9c179e\"], [0.4444444444444444, \"#bd3786\"], [0.5555555555555556, \"#d8576b\"], [0.6666666666666666, \"#ed7953\"], [0.7777777777777778, \"#fb9f3a\"], [0.8888888888888888, \"#fdca26\"], [1.0, \"#f0f921\"]]}, \"colorway\": [\"#636efa\", \"#EF553B\", \"#00cc96\", \"#ab63fa\", \"#FFA15A\", \"#19d3f3\", \"#FF6692\", \"#B6E880\", \"#FF97FF\", \"#FECB52\"], \"font\": {\"color\": \"#2a3f5f\"}, \"geo\": {\"bgcolor\": \"white\", \"lakecolor\": \"white\", \"landcolor\": \"#E5ECF6\", \"showlakes\": true, \"showland\": true, \"subunitcolor\": \"white\"}, \"hoverlabel\": {\"align\": \"left\"}, \"hovermode\": \"closest\", \"mapbox\": {\"style\": \"light\"}, \"paper_bgcolor\": \"white\", \"plot_bgcolor\": \"#E5ECF6\", \"polar\": {\"angularaxis\": {\"gridcolor\": \"white\", \"linecolor\": \"white\", \"ticks\": \"\"}, \"bgcolor\": \"#E5ECF6\", \"radialaxis\": {\"gridcolor\": \"white\", \"linecolor\": \"white\", \"ticks\": \"\"}}, \"scene\": {\"xaxis\": {\"backgroundcolor\": \"#E5ECF6\", \"gridcolor\": \"white\", \"gridwidth\": 2, \"linecolor\": \"white\", \"showbackground\": true, \"ticks\": \"\", \"zerolinecolor\": \"white\"}, \"yaxis\": {\"backgroundcolor\": \"#E5ECF6\", \"gridcolor\": \"white\", \"gridwidth\": 2, \"linecolor\": \"white\", \"showbackground\": true, \"ticks\": \"\", \"zerolinecolor\": \"white\"}, \"zaxis\": {\"backgroundcolor\": \"#E5ECF6\", \"gridcolor\": \"white\", \"gridwidth\": 2, \"linecolor\": \"white\", \"showbackground\": true, \"ticks\": \"\", \"zerolinecolor\": \"white\"}}, \"shapedefaults\": {\"line\": {\"color\": \"#2a3f5f\"}}, \"ternary\": {\"aaxis\": {\"gridcolor\": \"white\", \"linecolor\": \"white\", \"ticks\": \"\"}, \"baxis\": {\"gridcolor\": \"white\", \"linecolor\": \"white\", \"ticks\": \"\"}, \"bgcolor\": \"#E5ECF6\", \"caxis\": {\"gridcolor\": \"white\", \"linecolor\": \"white\", \"ticks\": \"\"}}, \"title\": {\"x\": 0.05}, \"xaxis\": {\"automargin\": true, \"gridcolor\": \"white\", \"linecolor\": \"white\", \"ticks\": \"\", \"title\": {\"standoff\": 15}, \"zerolinecolor\": \"white\", \"zerolinewidth\": 2}, \"yaxis\": {\"automargin\": true, \"gridcolor\": \"white\", \"linecolor\": \"white\", \"ticks\": \"\", \"title\": {\"standoff\": 15}, \"zerolinecolor\": \"white\", \"zerolinewidth\": 2}}}},\n",
              "                        {\"responsive\": true}\n",
              "                    ).then(function(){\n",
              "                            \n",
              "var gd = document.getElementById('6ef3f7b9-db65-4994-87c2-d7333721f48c');\n",
              "var x = new MutationObserver(function (mutations, observer) {{\n",
              "        var display = window.getComputedStyle(gd).display;\n",
              "        if (!display || display === 'none') {{\n",
              "            console.log([gd, 'removed!']);\n",
              "            Plotly.purge(gd);\n",
              "            observer.disconnect();\n",
              "        }}\n",
              "}});\n",
              "\n",
              "// Listen for the removal of the full notebook cells\n",
              "var notebookContainer = gd.closest('#notebook-container');\n",
              "if (notebookContainer) {{\n",
              "    x.observe(notebookContainer, {childList: true});\n",
              "}}\n",
              "\n",
              "// Listen for the clearing of the current output cell\n",
              "var outputEl = gd.closest('.output');\n",
              "if (outputEl) {{\n",
              "    x.observe(outputEl, {childList: true});\n",
              "}}\n",
              "\n",
              "                        })\n",
              "                };\n",
              "                \n",
              "            </script>\n",
              "        </div>\n",
              "</body>\n",
              "</html>"
            ]
          },
          "metadata": {
            "tags": []
          }
        }
      ]
    },
    {
      "cell_type": "markdown",
      "metadata": {
        "id": "D7GGiOrGJZA6"
      },
      "source": [
        "### CONCLUSION\n",
        "This clustering method doesn't help our analysis on the different zones of uber picking, we are not going to generalize to a week analysis."
      ]
    },
    {
      "cell_type": "code",
      "metadata": {
        "id": "YMHttWWSJZA6"
      },
      "source": [
        "import plotly.io as pio\n",
        "pio.write_html(fig, \"DBSCAN_clustering-uber_pickups_1_09_6PM.html\")"
      ],
      "execution_count": 12,
      "outputs": []
    }
  ]
}